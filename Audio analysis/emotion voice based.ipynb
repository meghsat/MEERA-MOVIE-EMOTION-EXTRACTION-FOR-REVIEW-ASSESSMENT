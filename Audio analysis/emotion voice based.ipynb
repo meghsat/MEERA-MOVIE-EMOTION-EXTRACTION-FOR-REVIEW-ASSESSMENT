{
 "cells": [
  {
   "cell_type": "code",
   "execution_count": 1,
   "metadata": {},
   "outputs": [
    {
     "name": "stderr",
     "output_type": "stream",
     "text": [
      "Using TensorFlow backend.\n"
     ]
    },
    {
     "data": {
      "text/html": [
       "<script type=\"text/javascript\">window.PlotlyConfig = {MathJaxConfig: 'local'};</script><script type=\"text/javascript\">if (window.MathJax) {MathJax.Hub.Config({SVG: {font: \"STIX-Web\"}});}</script><script>requirejs.config({paths: { 'plotly': ['https://cdn.plot.ly/plotly-latest.min']},});if(!window._Plotly) {require(['plotly'],function(plotly) {window._Plotly=plotly;});}</script>"
      ],
      "text/vnd.plotly.v1+html": [
       "<script type=\"text/javascript\">window.PlotlyConfig = {MathJaxConfig: 'local'};</script><script type=\"text/javascript\">if (window.MathJax) {MathJax.Hub.Config({SVG: {font: \"STIX-Web\"}});}</script><script>requirejs.config({paths: { 'plotly': ['https://cdn.plot.ly/plotly-latest.min']},});if(!window._Plotly) {require(['plotly'],function(plotly) {window._Plotly=plotly;});}</script>"
      ]
     },
     "metadata": {},
     "output_type": "display_data"
    }
   ],
   "source": [
    "#n-Analyzer/blob/master/final_results_gender_test.ipynb\n",
    "# This notebook author: Reza Chu\n",
    "# Last Editing Date: 31st May 2019\n",
    "\n",
    "## Python\n",
    "import os\n",
    "import random\n",
    "import sys\n",
    "\n",
    "\n",
    "## Package\n",
    "import glob \n",
    "import keras\n",
    "import IPython.display as ipd\n",
    "import librosa\n",
    "import librosa.display\n",
    "import matplotlib.pyplot as plt\n",
    "import numpy as np\n",
    "import pandas as pd\n",
    "import plotly.graph_objs as go\n",
    "import plotly.offline as py\n",
    "import plotly.tools as tls\n",
    "import seaborn as sns\n",
    "import scipy.io.wavfile\n",
    "import tensorflow as tf\n",
    "py.init_notebook_mode(connected=True)\n",
    "\n",
    "\n",
    "## Keras\n",
    "from keras import regularizers\n",
    "from keras.callbacks import ModelCheckpoint, LearningRateScheduler, EarlyStopping\n",
    "from keras.callbacks import  History, ReduceLROnPlateau, CSVLogger\n",
    "from keras.models import Model, Sequential\n",
    "from keras.layers import Dense, Embedding, LSTM\n",
    "from keras.layers import Input, Flatten, Dropout, Activation, BatchNormalization\n",
    "from keras.layers import Conv1D, MaxPooling1D, AveragePooling1D\n",
    "from keras.preprocessing import sequence\n",
    "from keras.preprocessing.sequence import pad_sequences\n",
    "from keras.preprocessing.text import Tokenizer\n",
    "from keras.utils import np_utils\n",
    "from keras.utils import to_categorical\n",
    "from sklearn.metrics import confusion_matrix\n",
    "from sklearn.preprocessing import LabelEncoder\n",
    "\n",
    "\n",
    "## Rest\n",
    "from scipy.fftpack import fft\n",
    "from scipy import signal\n",
    "from scipy.io import wavfile\n",
    "from tqdm import tqdm\n",
    "\n",
    "input_duration=3"
   ]
  },
  {
   "cell_type": "code",
   "execution_count": 2,
   "metadata": {
    "scrolled": true
   },
   "outputs": [
    {
     "name": "stdout",
     "output_type": "stream",
     "text": [
      "Collecting librosa==0.7.2\n",
      "  Downloading librosa-0.7.2.tar.gz (1.6 MB)\n",
      "Requirement already satisfied: audioread>=2.0.0 in c:\\users\\dmsss\\anaconda3\\envs\\env2\\lib\\site-packages (from librosa==0.7.2) (2.1.9)\n",
      "Requirement already satisfied: numpy>=1.15.0 in c:\\users\\dmsss\\anaconda3\\envs\\env2\\lib\\site-packages (from librosa==0.7.2) (1.19.2)\n",
      "Requirement already satisfied: scipy>=1.0.0 in c:\\users\\dmsss\\anaconda3\\envs\\env2\\lib\\site-packages (from librosa==0.7.2) (1.5.2)\n",
      "Requirement already satisfied: scikit-learn!=0.19.0,>=0.14.0 in c:\\users\\dmsss\\anaconda3\\envs\\env2\\lib\\site-packages (from librosa==0.7.2) (0.23.2)\n",
      "Requirement already satisfied: joblib>=0.12 in c:\\users\\dmsss\\anaconda3\\envs\\env2\\lib\\site-packages (from librosa==0.7.2) (0.17.0)\n",
      "Requirement already satisfied: decorator>=3.0.0 in c:\\users\\dmsss\\anaconda3\\envs\\env2\\lib\\site-packages (from librosa==0.7.2) (4.4.2)\n",
      "Requirement already satisfied: six>=1.3 in c:\\users\\dmsss\\anaconda3\\envs\\env2\\lib\\site-packages (from librosa==0.7.2) (1.15.0)\n",
      "Requirement already satisfied: resampy>=0.2.2 in c:\\users\\dmsss\\anaconda3\\envs\\env2\\lib\\site-packages (from librosa==0.7.2) (0.2.2)\n",
      "Requirement already satisfied: numba>=0.43.0 in c:\\users\\dmsss\\anaconda3\\envs\\env2\\lib\\site-packages (from librosa==0.7.2) (0.52.0)\n",
      "Collecting soundfile>=0.9.0\n",
      "  Downloading SoundFile-0.10.3.post1-py2.py3.cp26.cp27.cp32.cp33.cp34.cp35.cp36.pp27.pp32.pp33-none-win_amd64.whl (689 kB)\n",
      "Requirement already satisfied: threadpoolctl>=2.0.0 in c:\\users\\dmsss\\anaconda3\\envs\\env2\\lib\\site-packages (from scikit-learn!=0.19.0,>=0.14.0->librosa==0.7.2) (2.1.0)\n",
      "Requirement already satisfied: setuptools in c:\\users\\dmsss\\anaconda3\\envs\\env2\\lib\\site-packages (from numba>=0.43.0->librosa==0.7.2) (50.3.1.post20201107)\n",
      "Collecting llvmlite<0.36,>=0.35.0\n",
      "  Using cached llvmlite-0.35.0-cp36-cp36m-win_amd64.whl (16.0 MB)\n",
      "Requirement already satisfied: cffi>=1.0 in c:\\users\\dmsss\\anaconda3\\envs\\env2\\lib\\site-packages (from soundfile>=0.9.0->librosa==0.7.2) (1.14.4)\n",
      "Requirement already satisfied: pycparser in c:\\users\\dmsss\\anaconda3\\envs\\env2\\lib\\site-packages (from cffi>=1.0->soundfile>=0.9.0->librosa==0.7.2) (2.20)\n",
      "Building wheels for collected packages: librosa\n",
      "  Building wheel for librosa (setup.py): started\n",
      "  Building wheel for librosa (setup.py): finished with status 'done'\n",
      "  Created wheel for librosa: filename=librosa-0.7.2-py3-none-any.whl size=1612888 sha256=2451a9f5cd0913460157ac97fc67c74984301c5ed1df8dad16600aab89fb459d\n",
      "  Stored in directory: c:\\users\\dmsss\\appdata\\local\\pip\\cache\\wheels\\cb\\1d\\15\\a479fa740849128d481333d2f354f97691be3e2c82480a3e00\n",
      "Successfully built librosa\n",
      "Installing collected packages: soundfile, librosa, llvmlite\n",
      "  Attempting uninstall: librosa\n",
      "    Found existing installation: librosa 0.6.3\n",
      "    Uninstalling librosa-0.6.3:\n",
      "      Successfully uninstalled librosa-0.6.3\n",
      "  Attempting uninstall: llvmlite\n",
      "    Found existing installation: llvmlite 0.31.0\n",
      "    Uninstalling llvmlite-0.31.0:\n",
      "      Successfully uninstalled llvmlite-0.31.0\n",
      "Note: you may need to restart the kernel to use updated packages.\n"
     ]
    },
    {
     "name": "stderr",
     "output_type": "stream",
     "text": [
      "ERROR: Could not install packages due to an EnvironmentError: [WinError 5] Access is denied: 'c:\\\\users\\\\dmsss\\\\anaconda3\\\\envs\\\\env2\\\\lib\\\\site-packages\\\\~-vmlite\\\\binding\\\\llvmlite.dll'\n",
      "Consider using the `--user` option or check the permissions.\n",
      "\n"
     ]
    }
   ],
   "source": [
    "pip install librosa==0.7.2"
   ]
  },
  {
   "cell_type": "code",
   "execution_count": 2,
   "metadata": {
    "scrolled": true
   },
   "outputs": [
    {
     "name": "stdout",
     "output_type": "stream",
     "text": [
      "Collecting numba==0.45Note: you may need to restart the kernel to use updated packages.\n"
     ]
    },
    {
     "name": "stderr",
     "output_type": "stream",
     "text": [
      "ERROR: Could not install packages due to an EnvironmentError: [WinError 5] Access is denied: 'c:\\\\users\\\\dmsss\\\\anaconda3\\\\envs\\\\env2\\\\lib\\\\site-packages\\\\~umba\\\\core\\\\runtime\\\\_nrt_python.cp36-win_amd64.pyd'\n",
      "Consider using the `--user` option or check the permissions.\n",
      "\n"
     ]
    },
    {
     "name": "stdout",
     "output_type": "stream",
     "text": [
      "\n",
      "  Downloading numba-0.45.0-cp36-cp36m-win_amd64.whl (1.9 MB)\n",
      "Requirement already satisfied: llvmlite>=0.29.0dev0 in c:\\users\\dmsss\\anaconda3\\envs\\env2\\lib\\site-packages (from numba==0.45) (0.35.0)\n",
      "Requirement already satisfied: numpy in c:\\users\\dmsss\\anaconda3\\envs\\env2\\lib\\site-packages (from numba==0.45) (1.19.2)\n",
      "Installing collected packages: numba\n",
      "  Attempting uninstall: numba\n",
      "    Found existing installation: numba 0.52.0\n",
      "    Uninstalling numba-0.52.0:\n",
      "      Successfully uninstalled numba-0.52.0\n"
     ]
    }
   ],
   "source": [
    "pip install numba==0.45"
   ]
  },
  {
   "cell_type": "code",
   "execution_count": 3,
   "metadata": {},
   "outputs": [
    {
     "name": "stdout",
     "output_type": "stream",
     "text": [
      "Collecting llvmlite==0.32.1\n",
      "  Downloading llvmlite-0.32.1-cp36-cp36m-win_amd64.whl (13.6 MB)\n",
      "Installing collected packages: llvmlite\n",
      "  Attempting uninstall: llvmlite\n",
      "    Found existing installation: llvmlite 0.35.0\n",
      "    Uninstalling llvmlite-0.35.0:\n",
      "      Successfully uninstalled llvmlite-0.35.0\n",
      "Note: you may need to restart the kernel to use updated packages.\n"
     ]
    },
    {
     "name": "stderr",
     "output_type": "stream",
     "text": [
      "ERROR: Could not install packages due to an EnvironmentError: [WinError 5] Access is denied: 'c:\\\\users\\\\dmsss\\\\anaconda3\\\\envs\\\\env2\\\\lib\\\\site-packages\\\\~~vmlite\\\\binding\\\\llvmlite.dll'\n",
      "Consider using the `--user` option or check the permissions.\n",
      "\n"
     ]
    }
   ],
   "source": [
    "pip install -U llvmlite==0.32.1"
   ]
  },
  {
   "cell_type": "code",
   "execution_count": 2,
   "metadata": {
    "scrolled": true
   },
   "outputs": [
    {
     "name": "stdout",
     "output_type": "stream",
     "text": [
      "Collecting plotly==3.4.2\n",
      "  Downloading plotly-3.4.2-py2.py3-none-any.whl (37.8 MB)\n",
      "Requirement already satisfied: requests in c:\\users\\dmsss\\anaconda3\\envs\\env2\\lib\\site-packages (from plotly==3.4.2) (2.25.0)\n",
      "Requirement already satisfied: decorator>=4.0.6 in c:\\users\\dmsss\\anaconda3\\envs\\env2\\lib\\site-packages (from plotly==3.4.2) (4.4.2)\n",
      "Requirement already satisfied: pytz in c:\\users\\dmsss\\anaconda3\\envs\\env2\\lib\\site-packages (from plotly==3.4.2) (2020.4)\n",
      "Collecting retrying>=1.3.3\n",
      "  Using cached retrying-1.3.3.tar.gz (10 kB)\n",
      "Requirement already satisfied: six in c:\\users\\dmsss\\anaconda3\\envs\\env2\\lib\\site-packages (from plotly==3.4.2) (1.15.0)\n",
      "Requirement already satisfied: nbformat>=4.2 in c:\\users\\dmsss\\anaconda3\\envs\\env2\\lib\\site-packages (from plotly==3.4.2) (5.0.8)\n",
      "Requirement already satisfied: chardet<4,>=3.0.2 in c:\\users\\dmsss\\anaconda3\\envs\\env2\\lib\\site-packages (from requests->plotly==3.4.2) (3.0.4)\n",
      "Requirement already satisfied: idna<3,>=2.5 in c:\\users\\dmsss\\anaconda3\\envs\\env2\\lib\\site-packages (from requests->plotly==3.4.2) (2.10)\n",
      "Requirement already satisfied: certifi>=2017.4.17 in c:\\users\\dmsss\\anaconda3\\envs\\env2\\lib\\site-packages (from requests->plotly==3.4.2) (2020.11.8)\n",
      "Requirement already satisfied: urllib3<1.27,>=1.21.1 in c:\\users\\dmsss\\anaconda3\\envs\\env2\\lib\\site-packages (from requests->plotly==3.4.2) (1.25.11)\n",
      "Requirement already satisfied: jsonschema!=2.5.0,>=2.4 in c:\\users\\dmsss\\anaconda3\\envs\\env2\\lib\\site-packages (from nbformat>=4.2->plotly==3.4.2) (3.2.0)\n",
      "Requirement already satisfied: jupyter-core in c:\\users\\dmsss\\anaconda3\\envs\\env2\\lib\\site-packages (from nbformat>=4.2->plotly==3.4.2) (4.7.0)\n",
      "Requirement already satisfied: traitlets>=4.1 in c:\\users\\dmsss\\anaconda3\\envs\\env2\\lib\\site-packages (from nbformat>=4.2->plotly==3.4.2) (4.3.3)\n",
      "Requirement already satisfied: ipython-genutils in c:\\users\\dmsss\\anaconda3\\envs\\env2\\lib\\site-packages (from nbformat>=4.2->plotly==3.4.2) (0.2.0)\n",
      "Requirement already satisfied: attrs>=17.4.0 in c:\\users\\dmsss\\anaconda3\\envs\\env2\\lib\\site-packages (from jsonschema!=2.5.0,>=2.4->nbformat>=4.2->plotly==3.4.2) (20.3.0)\n",
      "Requirement already satisfied: importlib-metadata; python_version < \"3.8\" in c:\\users\\dmsss\\anaconda3\\envs\\env2\\lib\\site-packages (from jsonschema!=2.5.0,>=2.4->nbformat>=4.2->plotly==3.4.2) (2.0.0)\n",
      "Requirement already satisfied: pyrsistent>=0.14.0 in c:\\users\\dmsss\\anaconda3\\envs\\env2\\lib\\site-packages (from jsonschema!=2.5.0,>=2.4->nbformat>=4.2->plotly==3.4.2) (0.17.3)\n",
      "Requirement already satisfied: setuptools in c:\\users\\dmsss\\anaconda3\\envs\\env2\\lib\\site-packages (from jsonschema!=2.5.0,>=2.4->nbformat>=4.2->plotly==3.4.2) (50.3.1.post20201107)\n",
      "Requirement already satisfied: pywin32>=1.0; sys_platform == \"win32\" in c:\\users\\dmsss\\anaconda3\\envs\\env2\\lib\\site-packages (from jupyter-core->nbformat>=4.2->plotly==3.4.2) (227)\n",
      "Requirement already satisfied: zipp>=0.5 in c:\\users\\dmsss\\anaconda3\\envs\\env2\\lib\\site-packages (from importlib-metadata; python_version < \"3.8\"->jsonschema!=2.5.0,>=2.4->nbformat>=4.2->plotly==3.4.2) (3.4.0)\n",
      "Building wheels for collected packages: retrying\n",
      "  Building wheel for retrying (setup.py): started\n",
      "  Building wheel for retrying (setup.py): finished with status 'done'\n",
      "  Created wheel for retrying: filename=retrying-1.3.3-py3-none-any.whl size=11434 sha256=3266d0a72b5fdb0cd6d745a538998bec095bf545829daa92eaeae7cd6e693e47\n",
      "  Stored in directory: c:\\users\\dmsss\\appdata\\local\\pip\\cache\\wheels\\ac\\cb\\8a\\b27bf6323e2f4c462dcbf77d70b7c5e7868a7fbe12871770cf\n",
      "Successfully built retrying\n",
      "Installing collected packages: retrying, plotly\n",
      "Successfully installed plotly-3.4.2 retrying-1.3.3\n",
      "Note: you may need to restart the kernel to use updated packages.\n"
     ]
    }
   ],
   "source": [
    "pip install plotly==3.4.2"
   ]
  },
  {
   "cell_type": "code",
   "execution_count": 2,
   "metadata": {
    "scrolled": true
   },
   "outputs": [
    {
     "name": "stdout",
     "output_type": "stream",
     "text": [
      "Collecting seaborn==0.9.0Note: you may need to restart the kernel to use updated packages.\n",
      "\n",
      "  Using cached seaborn-0.9.0-py3-none-any.whl (208 kB)\n",
      "Requirement already satisfied: matplotlib>=1.4.3 in c:\\users\\dmsss\\anaconda3\\envs\\env2\\lib\\site-packages (from seaborn==0.9.0) (3.3.2)\n",
      "Requirement already satisfied: scipy>=0.14.0 in c:\\users\\dmsss\\anaconda3\\envs\\env2\\lib\\site-packages (from seaborn==0.9.0) (1.5.2)\n",
      "Requirement already satisfied: pandas>=0.15.2 in c:\\users\\dmsss\\anaconda3\\envs\\env2\\lib\\site-packages (from seaborn==0.9.0) (1.1.4)\n",
      "Requirement already satisfied: numpy>=1.9.3 in c:\\users\\dmsss\\anaconda3\\envs\\env2\\lib\\site-packages (from seaborn==0.9.0) (1.19.2)\n",
      "Requirement already satisfied: kiwisolver>=1.0.1 in c:\\users\\dmsss\\anaconda3\\envs\\env2\\lib\\site-packages (from matplotlib>=1.4.3->seaborn==0.9.0) (1.3.0)\n",
      "Requirement already satisfied: pyparsing!=2.0.4,!=2.1.2,!=2.1.6,>=2.0.3 in c:\\users\\dmsss\\anaconda3\\envs\\env2\\lib\\site-packages (from matplotlib>=1.4.3->seaborn==0.9.0) (2.4.7)\n",
      "Requirement already satisfied: pillow>=6.2.0 in c:\\users\\dmsss\\anaconda3\\envs\\env2\\lib\\site-packages (from matplotlib>=1.4.3->seaborn==0.9.0) (8.0.1)\n",
      "Requirement already satisfied: certifi>=2020.06.20 in c:\\users\\dmsss\\anaconda3\\envs\\env2\\lib\\site-packages (from matplotlib>=1.4.3->seaborn==0.9.0) (2020.11.8)\n",
      "Requirement already satisfied: python-dateutil>=2.1 in c:\\users\\dmsss\\anaconda3\\envs\\env2\\lib\\site-packages (from matplotlib>=1.4.3->seaborn==0.9.0) (2.8.1)\n",
      "Requirement already satisfied: cycler>=0.10 in c:\\users\\dmsss\\anaconda3\\envs\\env2\\lib\\site-packages (from matplotlib>=1.4.3->seaborn==0.9.0) (0.10.0)\n",
      "Requirement already satisfied: pytz>=2017.2 in c:\\users\\dmsss\\anaconda3\\envs\\env2\\lib\\site-packages (from pandas>=0.15.2->seaborn==0.9.0) (2020.4)\n",
      "Requirement already satisfied: six>=1.5 in c:\\users\\dmsss\\anaconda3\\envs\\env2\\lib\\site-packages (from python-dateutil>=2.1->matplotlib>=1.4.3->seaborn==0.9.0) (1.15.0)\n",
      "Installing collected packages: seaborn\n",
      "Successfully installed seaborn-0.9.0\n"
     ]
    }
   ],
   "source": [
    "pip install seaborn==0.9.0"
   ]
  },
  {
   "cell_type": "code",
   "execution_count": null,
   "metadata": {},
   "outputs": [],
   "source": []
  },
  {
   "cell_type": "code",
   "execution_count": 2,
   "metadata": {},
   "outputs": [
    {
     "name": "stdout",
     "output_type": "stream",
     "text": [
      "['Actor_01', 'Actor_02', 'Actor_03', 'Actor_04', 'Actor_05', 'Actor_06', 'Actor_07', 'Actor_08', 'Actor_09', 'Actor_10', 'Actor_11', 'Actor_12', 'Actor_13', 'Actor_14', 'Actor_15', 'Actor_16', 'Actor_17', 'Actor_18', 'Actor_19', 'Actor_20', 'Actor_21', 'Actor_22', 'Actor_23', 'Actor_24']\n"
     ]
    }
   ],
   "source": [
    "dir_list = os.listdir('data/')\n",
    "dir_list.sort()\n",
    "print (dir_list)"
   ]
  },
  {
   "cell_type": "code",
   "execution_count": 3,
   "metadata": {},
   "outputs": [],
   "source": [
    "data_df = pd.DataFrame(columns=['path', 'source', 'actor', 'gender',\n",
    "                                'intensity', 'statement', 'repetition', 'emotion'])\n",
    "count = 0\n",
    "for i in dir_list:\n",
    "    file_list = os.listdir('data/' + i)\n",
    "    for f in file_list:\n",
    "        nm = f.split('.')[0].split('-')\n",
    "        path = 'data/' + i + '/' + f\n",
    "        src = int(nm[1])\n",
    "        actor = int(nm[-1])\n",
    "        emotion = int(nm[2])\n",
    "        \n",
    "        if int(actor)%2 == 0:\n",
    "            gender = \"female\"\n",
    "        else:\n",
    "            gender = \"male\"\n",
    "        \n",
    "        if nm[3] == '01':\n",
    "            intensity = 0\n",
    "        else:\n",
    "            intensity = 1\n",
    "        \n",
    "        if nm[4] == '01':\n",
    "            statement = 0\n",
    "        else:\n",
    "            statement = 1\n",
    "        \n",
    "        if nm[5] == '01':\n",
    "            repeat = 0\n",
    "        else:\n",
    "            repeat = 1\n",
    "            \n",
    "        data_df.loc[count] = [path, src, actor, gender, intensity, statement, repeat, emotion]\n",
    "        count += 1"
   ]
  },
  {
   "cell_type": "code",
   "execution_count": 4,
   "metadata": {},
   "outputs": [
    {
     "name": "stdout",
     "output_type": "stream",
     "text": [
      "1012\n"
     ]
    },
    {
     "data": {
      "text/html": [
       "<div>\n",
       "<style scoped>\n",
       "    .dataframe tbody tr th:only-of-type {\n",
       "        vertical-align: middle;\n",
       "    }\n",
       "\n",
       "    .dataframe tbody tr th {\n",
       "        vertical-align: top;\n",
       "    }\n",
       "\n",
       "    .dataframe thead th {\n",
       "        text-align: right;\n",
       "    }\n",
       "</style>\n",
       "<table border=\"1\" class=\"dataframe\">\n",
       "  <thead>\n",
       "    <tr style=\"text-align: right;\">\n",
       "      <th></th>\n",
       "      <th>path</th>\n",
       "      <th>source</th>\n",
       "      <th>actor</th>\n",
       "      <th>gender</th>\n",
       "      <th>intensity</th>\n",
       "      <th>statement</th>\n",
       "      <th>repetition</th>\n",
       "      <th>emotion</th>\n",
       "    </tr>\n",
       "  </thead>\n",
       "  <tbody>\n",
       "    <tr>\n",
       "      <th>0</th>\n",
       "      <td>data/Actor_01/03-02-01-01-01-01-01.wav</td>\n",
       "      <td>2</td>\n",
       "      <td>1</td>\n",
       "      <td>male</td>\n",
       "      <td>0</td>\n",
       "      <td>0</td>\n",
       "      <td>0</td>\n",
       "      <td>1</td>\n",
       "    </tr>\n",
       "    <tr>\n",
       "      <th>1</th>\n",
       "      <td>data/Actor_01/03-02-01-01-01-02-01.wav</td>\n",
       "      <td>2</td>\n",
       "      <td>1</td>\n",
       "      <td>male</td>\n",
       "      <td>0</td>\n",
       "      <td>0</td>\n",
       "      <td>1</td>\n",
       "      <td>1</td>\n",
       "    </tr>\n",
       "    <tr>\n",
       "      <th>2</th>\n",
       "      <td>data/Actor_01/03-02-01-01-02-01-01.wav</td>\n",
       "      <td>2</td>\n",
       "      <td>1</td>\n",
       "      <td>male</td>\n",
       "      <td>0</td>\n",
       "      <td>1</td>\n",
       "      <td>0</td>\n",
       "      <td>1</td>\n",
       "    </tr>\n",
       "    <tr>\n",
       "      <th>3</th>\n",
       "      <td>data/Actor_01/03-02-01-01-02-02-01.wav</td>\n",
       "      <td>2</td>\n",
       "      <td>1</td>\n",
       "      <td>male</td>\n",
       "      <td>0</td>\n",
       "      <td>1</td>\n",
       "      <td>1</td>\n",
       "      <td>1</td>\n",
       "    </tr>\n",
       "    <tr>\n",
       "      <th>4</th>\n",
       "      <td>data/Actor_01/03-02-02-01-01-01-01.wav</td>\n",
       "      <td>2</td>\n",
       "      <td>1</td>\n",
       "      <td>male</td>\n",
       "      <td>0</td>\n",
       "      <td>0</td>\n",
       "      <td>0</td>\n",
       "      <td>2</td>\n",
       "    </tr>\n",
       "  </tbody>\n",
       "</table>\n",
       "</div>"
      ],
      "text/plain": [
       "                                     path source actor gender intensity  \\\n",
       "0  data/Actor_01/03-02-01-01-01-01-01.wav      2     1   male         0   \n",
       "1  data/Actor_01/03-02-01-01-01-02-01.wav      2     1   male         0   \n",
       "2  data/Actor_01/03-02-01-01-02-01-01.wav      2     1   male         0   \n",
       "3  data/Actor_01/03-02-01-01-02-02-01.wav      2     1   male         0   \n",
       "4  data/Actor_01/03-02-02-01-01-01-01.wav      2     1   male         0   \n",
       "\n",
       "  statement repetition emotion  \n",
       "0         0          0       1  \n",
       "1         0          1       1  \n",
       "2         1          0       1  \n",
       "3         1          1       1  \n",
       "4         0          0       2  "
      ]
     },
     "execution_count": 4,
     "metadata": {},
     "output_type": "execute_result"
    }
   ],
   "source": [
    "\n",
    "print (len(data_df))\n",
    "data_df.head()"
   ]
  },
  {
   "cell_type": "code",
   "execution_count": 5,
   "metadata": {},
   "outputs": [
    {
     "ename": "KeyError",
     "evalue": "1021",
     "output_type": "error",
     "traceback": [
      "\u001b[1;31m---------------------------------------------------------------------------\u001b[0m",
      "\u001b[1;31mKeyError\u001b[0m                                  Traceback (most recent call last)",
      "\u001b[1;32m~\\anaconda3\\envs\\env2\\lib\\site-packages\\pandas\\core\\indexes\\base.py\u001b[0m in \u001b[0;36mget_loc\u001b[1;34m(self, key, method, tolerance)\u001b[0m\n\u001b[0;32m   2894\u001b[0m             \u001b[1;32mtry\u001b[0m\u001b[1;33m:\u001b[0m\u001b[1;33m\u001b[0m\u001b[1;33m\u001b[0m\u001b[0m\n\u001b[1;32m-> 2895\u001b[1;33m                 \u001b[1;32mreturn\u001b[0m \u001b[0mself\u001b[0m\u001b[1;33m.\u001b[0m\u001b[0m_engine\u001b[0m\u001b[1;33m.\u001b[0m\u001b[0mget_loc\u001b[0m\u001b[1;33m(\u001b[0m\u001b[0mcasted_key\u001b[0m\u001b[1;33m)\u001b[0m\u001b[1;33m\u001b[0m\u001b[1;33m\u001b[0m\u001b[0m\n\u001b[0m\u001b[0;32m   2896\u001b[0m             \u001b[1;32mexcept\u001b[0m \u001b[0mKeyError\u001b[0m \u001b[1;32mas\u001b[0m \u001b[0merr\u001b[0m\u001b[1;33m:\u001b[0m\u001b[1;33m\u001b[0m\u001b[1;33m\u001b[0m\u001b[0m\n",
      "\u001b[1;32mpandas\\_libs\\index.pyx\u001b[0m in \u001b[0;36mpandas._libs.index.IndexEngine.get_loc\u001b[1;34m()\u001b[0m\n",
      "\u001b[1;32mpandas\\_libs\\index.pyx\u001b[0m in \u001b[0;36mpandas._libs.index.IndexEngine.get_loc\u001b[1;34m()\u001b[0m\n",
      "\u001b[1;32mpandas\\_libs\\hashtable_class_helper.pxi\u001b[0m in \u001b[0;36mpandas._libs.hashtable.Int64HashTable.get_item\u001b[1;34m()\u001b[0m\n",
      "\u001b[1;32mpandas\\_libs\\hashtable_class_helper.pxi\u001b[0m in \u001b[0;36mpandas._libs.hashtable.Int64HashTable.get_item\u001b[1;34m()\u001b[0m\n",
      "\u001b[1;31mKeyError\u001b[0m: 1021",
      "\nThe above exception was the direct cause of the following exception:\n",
      "\u001b[1;31mKeyError\u001b[0m                                  Traceback (most recent call last)",
      "\u001b[1;32m<ipython-input-5-06532596ef6e>\u001b[0m in \u001b[0;36m<module>\u001b[1;34m\u001b[0m\n\u001b[1;32m----> 1\u001b[1;33m \u001b[0mfilename\u001b[0m \u001b[1;33m=\u001b[0m \u001b[0mdata_df\u001b[0m\u001b[1;33m.\u001b[0m\u001b[0mpath\u001b[0m\u001b[1;33m[\u001b[0m\u001b[1;36m1021\u001b[0m\u001b[1;33m]\u001b[0m\u001b[1;33m\u001b[0m\u001b[1;33m\u001b[0m\u001b[0m\n\u001b[0m\u001b[0;32m      2\u001b[0m \u001b[0mprint\u001b[0m \u001b[1;33m(\u001b[0m\u001b[0mfilename\u001b[0m\u001b[1;33m)\u001b[0m\u001b[1;33m\u001b[0m\u001b[1;33m\u001b[0m\u001b[0m\n\u001b[0;32m      3\u001b[0m \u001b[1;33m\u001b[0m\u001b[0m\n\u001b[0;32m      4\u001b[0m \u001b[0msamples\u001b[0m\u001b[1;33m,\u001b[0m \u001b[0msample_rate\u001b[0m \u001b[1;33m=\u001b[0m \u001b[0mlibrosa\u001b[0m\u001b[1;33m.\u001b[0m\u001b[0mload\u001b[0m\u001b[1;33m(\u001b[0m\u001b[0mfilename\u001b[0m\u001b[1;33m)\u001b[0m\u001b[1;33m\u001b[0m\u001b[1;33m\u001b[0m\u001b[0m\n\u001b[0;32m      5\u001b[0m \u001b[0msample_rate\u001b[0m\u001b[1;33m,\u001b[0m \u001b[0msamples\u001b[0m\u001b[1;33m\u001b[0m\u001b[1;33m\u001b[0m\u001b[0m\n",
      "\u001b[1;32m~\\anaconda3\\envs\\env2\\lib\\site-packages\\pandas\\core\\series.py\u001b[0m in \u001b[0;36m__getitem__\u001b[1;34m(self, key)\u001b[0m\n\u001b[0;32m    880\u001b[0m \u001b[1;33m\u001b[0m\u001b[0m\n\u001b[0;32m    881\u001b[0m         \u001b[1;32melif\u001b[0m \u001b[0mkey_is_scalar\u001b[0m\u001b[1;33m:\u001b[0m\u001b[1;33m\u001b[0m\u001b[1;33m\u001b[0m\u001b[0m\n\u001b[1;32m--> 882\u001b[1;33m             \u001b[1;32mreturn\u001b[0m \u001b[0mself\u001b[0m\u001b[1;33m.\u001b[0m\u001b[0m_get_value\u001b[0m\u001b[1;33m(\u001b[0m\u001b[0mkey\u001b[0m\u001b[1;33m)\u001b[0m\u001b[1;33m\u001b[0m\u001b[1;33m\u001b[0m\u001b[0m\n\u001b[0m\u001b[0;32m    883\u001b[0m \u001b[1;33m\u001b[0m\u001b[0m\n\u001b[0;32m    884\u001b[0m         \u001b[1;32mif\u001b[0m \u001b[0mis_hashable\u001b[0m\u001b[1;33m(\u001b[0m\u001b[0mkey\u001b[0m\u001b[1;33m)\u001b[0m\u001b[1;33m:\u001b[0m\u001b[1;33m\u001b[0m\u001b[1;33m\u001b[0m\u001b[0m\n",
      "\u001b[1;32m~\\anaconda3\\envs\\env2\\lib\\site-packages\\pandas\\core\\series.py\u001b[0m in \u001b[0;36m_get_value\u001b[1;34m(self, label, takeable)\u001b[0m\n\u001b[0;32m    987\u001b[0m \u001b[1;33m\u001b[0m\u001b[0m\n\u001b[0;32m    988\u001b[0m         \u001b[1;31m# Similar to Index.get_value, but we do not fall back to positional\u001b[0m\u001b[1;33m\u001b[0m\u001b[1;33m\u001b[0m\u001b[1;33m\u001b[0m\u001b[0m\n\u001b[1;32m--> 989\u001b[1;33m         \u001b[0mloc\u001b[0m \u001b[1;33m=\u001b[0m \u001b[0mself\u001b[0m\u001b[1;33m.\u001b[0m\u001b[0mindex\u001b[0m\u001b[1;33m.\u001b[0m\u001b[0mget_loc\u001b[0m\u001b[1;33m(\u001b[0m\u001b[0mlabel\u001b[0m\u001b[1;33m)\u001b[0m\u001b[1;33m\u001b[0m\u001b[1;33m\u001b[0m\u001b[0m\n\u001b[0m\u001b[0;32m    990\u001b[0m         \u001b[1;32mreturn\u001b[0m \u001b[0mself\u001b[0m\u001b[1;33m.\u001b[0m\u001b[0mindex\u001b[0m\u001b[1;33m.\u001b[0m\u001b[0m_get_values_for_loc\u001b[0m\u001b[1;33m(\u001b[0m\u001b[0mself\u001b[0m\u001b[1;33m,\u001b[0m \u001b[0mloc\u001b[0m\u001b[1;33m,\u001b[0m \u001b[0mlabel\u001b[0m\u001b[1;33m)\u001b[0m\u001b[1;33m\u001b[0m\u001b[1;33m\u001b[0m\u001b[0m\n\u001b[0;32m    991\u001b[0m \u001b[1;33m\u001b[0m\u001b[0m\n",
      "\u001b[1;32m~\\anaconda3\\envs\\env2\\lib\\site-packages\\pandas\\core\\indexes\\base.py\u001b[0m in \u001b[0;36mget_loc\u001b[1;34m(self, key, method, tolerance)\u001b[0m\n\u001b[0;32m   2895\u001b[0m                 \u001b[1;32mreturn\u001b[0m \u001b[0mself\u001b[0m\u001b[1;33m.\u001b[0m\u001b[0m_engine\u001b[0m\u001b[1;33m.\u001b[0m\u001b[0mget_loc\u001b[0m\u001b[1;33m(\u001b[0m\u001b[0mcasted_key\u001b[0m\u001b[1;33m)\u001b[0m\u001b[1;33m\u001b[0m\u001b[1;33m\u001b[0m\u001b[0m\n\u001b[0;32m   2896\u001b[0m             \u001b[1;32mexcept\u001b[0m \u001b[0mKeyError\u001b[0m \u001b[1;32mas\u001b[0m \u001b[0merr\u001b[0m\u001b[1;33m:\u001b[0m\u001b[1;33m\u001b[0m\u001b[1;33m\u001b[0m\u001b[0m\n\u001b[1;32m-> 2897\u001b[1;33m                 \u001b[1;32mraise\u001b[0m \u001b[0mKeyError\u001b[0m\u001b[1;33m(\u001b[0m\u001b[0mkey\u001b[0m\u001b[1;33m)\u001b[0m \u001b[1;32mfrom\u001b[0m \u001b[0merr\u001b[0m\u001b[1;33m\u001b[0m\u001b[1;33m\u001b[0m\u001b[0m\n\u001b[0m\u001b[0;32m   2898\u001b[0m \u001b[1;33m\u001b[0m\u001b[0m\n\u001b[0;32m   2899\u001b[0m         \u001b[1;32mif\u001b[0m \u001b[0mtolerance\u001b[0m \u001b[1;32mis\u001b[0m \u001b[1;32mnot\u001b[0m \u001b[1;32mNone\u001b[0m\u001b[1;33m:\u001b[0m\u001b[1;33m\u001b[0m\u001b[1;33m\u001b[0m\u001b[0m\n",
      "\u001b[1;31mKeyError\u001b[0m: 1021"
     ]
    }
   ],
   "source": [
    "filename = data_df.path[1021]\n",
    "print (filename)\n",
    "\n",
    "samples, sample_rate = librosa.load(filename)\n",
    "sample_rate, samples"
   ]
  },
  {
   "cell_type": "code",
   "execution_count": null,
   "metadata": {},
   "outputs": [],
   "source": []
  }
 ],
 "metadata": {
  "kernelspec": {
   "display_name": "Python 3",
   "language": "python",
   "name": "python3"
  },
  "language_info": {
   "codemirror_mode": {
    "name": "ipython",
    "version": 3
   },
   "file_extension": ".py",
   "mimetype": "text/x-python",
   "name": "python",
   "nbconvert_exporter": "python",
   "pygments_lexer": "ipython3",
   "version": "3.6.12"
  }
 },
 "nbformat": 4,
 "nbformat_minor": 4
}
