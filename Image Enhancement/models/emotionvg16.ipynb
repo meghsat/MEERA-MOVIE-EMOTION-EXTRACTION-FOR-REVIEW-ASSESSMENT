{
 "cells": [
  {
   "cell_type": "code",
   "execution_count": 1,
   "metadata": {
    "colab": {},
    "colab_type": "code",
    "id": "dGxlBw3or1WS",
    "scrolled": true
   },
   "outputs": [
    {
     "data": {
      "text/plain": [
       "'2.1.0'"
      ]
     },
     "execution_count": 1,
     "metadata": {},
     "output_type": "execute_result"
    }
   ],
   "source": [
    "import tensorflow as tf\n",
    "tf.__version__"
   ]
  },
  {
   "cell_type": "markdown",
   "metadata": {
    "colab_type": "text",
    "id": "lyUu6rRevRUn"
   },
   "source": [
    "# New Section"
   ]
  },
  {
   "cell_type": "code",
   "execution_count": 5,
   "metadata": {
    "colab": {},
    "colab_type": "code",
    "id": "rdWg2wmSvTRI"
   },
   "outputs": [],
   "source": [
    "import pandas as pd\n",
    "import numpy as np\n",
    "from keras.models import Sequential\n",
    "from keras.layers.core import Flatten, Dense, Dropout\n",
    "from keras.layers.convolutional import Convolution2D, MaxPooling2D, ZeroPadding2D\n",
    "from keras.optimizers import SGD\n",
    "import cv2\n",
    "import keras as kf"
   ]
  },
  {
   "cell_type": "code",
   "execution_count": 2,
   "metadata": {
    "colab": {
     "base_uri": "https://localhost:8080/",
     "height": 54
    },
    "colab_type": "code",
    "id": "OiE5lU8CLYI7",
    "outputId": "c5fee7ca-1cd3-4982-90b5-aebe18e97455"
   },
   "outputs": [
    {
     "ename": "ModuleNotFoundError",
     "evalue": "No module named 'google.colab'",
     "output_type": "error",
     "traceback": [
      "\u001b[1;31m---------------------------------------------------------------------------\u001b[0m",
      "\u001b[1;31mModuleNotFoundError\u001b[0m                       Traceback (most recent call last)",
      "\u001b[1;32m<ipython-input-2-d5df0069828e>\u001b[0m in \u001b[0;36m<module>\u001b[1;34m\u001b[0m\n\u001b[1;32m----> 1\u001b[1;33m \u001b[1;32mfrom\u001b[0m \u001b[0mgoogle\u001b[0m\u001b[1;33m.\u001b[0m\u001b[0mcolab\u001b[0m \u001b[1;32mimport\u001b[0m \u001b[0mdrive\u001b[0m\u001b[1;33m\u001b[0m\u001b[1;33m\u001b[0m\u001b[0m\n\u001b[0m\u001b[0;32m      2\u001b[0m \u001b[0mdrive\u001b[0m\u001b[1;33m.\u001b[0m\u001b[0mmount\u001b[0m\u001b[1;33m(\u001b[0m\u001b[1;34m'/content/drive'\u001b[0m\u001b[1;33m)\u001b[0m\u001b[1;33m\u001b[0m\u001b[1;33m\u001b[0m\u001b[0m\n",
      "\u001b[1;31mModuleNotFoundError\u001b[0m: No module named 'google.colab'"
     ]
    }
   ],
   "source": [
    "from google.colab import drive\n",
    "drive.mount('/content/drive')"
   ]
  },
  {
   "cell_type": "code",
   "execution_count": 4,
   "metadata": {
    "colab": {
     "base_uri": "https://localhost:8080/",
     "height": 204
    },
    "colab_type": "code",
    "id": "urR83025vtu4",
    "outputId": "9be70d4f-0ea7-48ec-c6eb-36452d673a6d"
   },
   "outputs": [
    {
     "data": {
      "text/html": [
       "<div>\n",
       "<style scoped>\n",
       "    .dataframe tbody tr th:only-of-type {\n",
       "        vertical-align: middle;\n",
       "    }\n",
       "\n",
       "    .dataframe tbody tr th {\n",
       "        vertical-align: top;\n",
       "    }\n",
       "\n",
       "    .dataframe thead th {\n",
       "        text-align: right;\n",
       "    }\n",
       "</style>\n",
       "<table border=\"1\" class=\"dataframe\">\n",
       "  <thead>\n",
       "    <tr style=\"text-align: right;\">\n",
       "      <th></th>\n",
       "      <th>emotion</th>\n",
       "      <th>pixels</th>\n",
       "      <th>Usage</th>\n",
       "    </tr>\n",
       "  </thead>\n",
       "  <tbody>\n",
       "    <tr>\n",
       "      <th>0</th>\n",
       "      <td>0</td>\n",
       "      <td>70 80 82 72 58 58 60 63 54 58 60 48 89 115 121...</td>\n",
       "      <td>Training</td>\n",
       "    </tr>\n",
       "    <tr>\n",
       "      <th>1</th>\n",
       "      <td>0</td>\n",
       "      <td>151 150 147 155 148 133 111 140 170 174 182 15...</td>\n",
       "      <td>Training</td>\n",
       "    </tr>\n",
       "    <tr>\n",
       "      <th>2</th>\n",
       "      <td>2</td>\n",
       "      <td>231 212 156 164 174 138 161 173 182 200 106 38...</td>\n",
       "      <td>Training</td>\n",
       "    </tr>\n",
       "    <tr>\n",
       "      <th>3</th>\n",
       "      <td>4</td>\n",
       "      <td>24 32 36 30 32 23 19 20 30 41 21 22 32 34 21 1...</td>\n",
       "      <td>Training</td>\n",
       "    </tr>\n",
       "    <tr>\n",
       "      <th>4</th>\n",
       "      <td>6</td>\n",
       "      <td>4 0 0 0 0 0 0 0 0 0 0 0 3 15 23 28 48 50 58 84...</td>\n",
       "      <td>Training</td>\n",
       "    </tr>\n",
       "  </tbody>\n",
       "</table>\n",
       "</div>"
      ],
      "text/plain": [
       "   emotion                                             pixels     Usage\n",
       "0        0  70 80 82 72 58 58 60 63 54 58 60 48 89 115 121...  Training\n",
       "1        0  151 150 147 155 148 133 111 140 170 174 182 15...  Training\n",
       "2        2  231 212 156 164 174 138 161 173 182 200 106 38...  Training\n",
       "3        4  24 32 36 30 32 23 19 20 30 41 21 22 32 34 21 1...  Training\n",
       "4        6  4 0 0 0 0 0 0 0 0 0 0 0 3 15 23 28 48 50 58 84...  Training"
      ]
     },
     "execution_count": 4,
     "metadata": {},
     "output_type": "execute_result"
    }
   ],
   "source": [
    "emotion_data = pd.read_csv('fer2013.csv')\n",
    "emotion_data.head()"
   ]
  },
  {
   "cell_type": "code",
   "execution_count": 5,
   "metadata": {
    "colab": {
     "base_uri": "https://localhost:8080/",
     "height": 85
    },
    "colab_type": "code",
    "id": "tCyCp9VaciLp",
    "outputId": "16036177-8594-46d5-dc2d-ee4f00a4418c"
   },
   "outputs": [
    {
     "data": {
      "text/plain": [
       "Training       28709\n",
       "PrivateTest     3589\n",
       "PublicTest      3589\n",
       "Name: Usage, dtype: int64"
      ]
     },
     "execution_count": 5,
     "metadata": {},
     "output_type": "execute_result"
    }
   ],
   "source": [
    "emotion_data['Usage'].value_counts()"
   ]
  },
  {
   "cell_type": "code",
   "execution_count": 2,
   "metadata": {
    "colab": {},
    "colab_type": "code",
    "id": "UW82SoEBgCyD"
   },
   "outputs": [],
   "source": [
    "from keras.optimizers import RMSprop,SGD,Adam\n",
    "from keras.callbacks import ModelCheckpoint,EarlyStopping,ReduceLROnPlateau\n",
    "\n",
    "#Sequential to build a model layer by layer..Each layer has weights that correspond to the layer the follows it..\n",
    "from keras.models import Sequential \n",
    "from keras.layers import Dense, Dropout, Activation, Flatten  \n",
    "from keras.layers import Conv2D, MaxPooling2D, BatchNormalization,AveragePooling2D\n",
    "#categorical_crossentropy : don't know\n",
    "from keras.losses import categorical_crossentropy  \n",
    "#adam:replacement optimization algorithm for stochastic gradient descent for training deep learning models.#don't understand what it is \n",
    "from keras.optimizers import Adam  \n",
    "#l2:allows you to add a penalty for weight size to the loss function\n",
    "from keras.regularizers import l2 \n",
    "#np_utils:Numpy-related utilities. \n",
    "from keras.utils import np_utils  \n",
    "import pandas as pd\n",
    "df=pd.read_csv('fer2013.csv')  \n",
    "X_train,train_y,X_test,test_y=[],[],[],[]  \n",
    "\n",
    "for index, row in df.iterrows():  \n",
    "    val=row['pixels'].split(\" \")  \n",
    "    try:  \n",
    "        if 'Training' in row['Usage']:  \n",
    "           X_train.append(np.array(val,'float32'))  \n",
    "           train_y.append(row['emotion'])  \n",
    "        elif 'PublicTest' in row['Usage']:  \n",
    "           X_test.append(np.array(val,'float32'))  \n",
    "           test_y.append(row['emotion'])  \n",
    "    except:  \n",
    "        print(f\"error occured at index :{index} and row:{row}\")  \n",
    "\n",
    "\n",
    "num_features = 64  \n",
    "num_labels = 7  \n",
    "batch_size = 64  \n",
    "epochs = 30  \n",
    "width, height = 48, 48  \n",
    "\n",
    "\n",
    "X_train = np.array(X_train,'float32')  \n",
    "train_y = np.array(train_y,'float32')  \n",
    "X_test = np.array(X_test,'float32')  \n",
    "test_y = np.array(test_y,'float32')  \n",
    "\n",
    "train_y=np_utils.to_categorical(train_y, num_classes=num_labels)  \n",
    "test_y=np_utils.to_categorical(test_y, num_classes=num_labels)  \n",
    "\n",
    "#cannot produce  \n",
    "#normalizing data between oand 1  \n",
    "X_train -= np.mean(X_train, axis=0)  \n",
    "X_train /= np.std(X_train, axis=0)  \n",
    "\n",
    "X_test -= np.mean(X_test, axis=0)  \n",
    "X_test /= np.std(X_test, axis=0)  \n",
    "\n",
    "X_train = X_train.reshape(X_train.shape[0], 48, 48, 1)  \n",
    "\n",
    "X_test = X_test.reshape(X_test.shape[0], 48, 48, 1)  \n",
    "\n",
    "# print(f\"shape:{X_train.shape}\")  \n",
    "##designing the cnn  \n",
    "#1st convolution layer  \n",
    "model = Sequential()  \n",
    "#ist layer\n",
    "model.add(Conv2D(32,(3,3),padding='same',input_shape=(X_train.shape[1:])))\n",
    "model.add(Activation('relu'))\n",
    "model.add(BatchNormalization())\n",
    "model.add(Conv2D(32,(3,3),padding='same',input_shape=(img_rows,img_cols,1)))\n",
    "model.add(Activation('relu'))\n",
    "model.add(BatchNormalization())\n",
    "model.add(MaxPool2D(pool_size=(2,2),strides=(2, 2)))\n",
    "model.add(Dropout(0.2))\n",
    "# model.add(Conv2D(64, kernel_size=(3, 3), activation='relu', input_shape=(X_train.shape[1:])))  \n",
    "# model.add(Conv2D(64,kernel_size= (3, 3), activation='relu'))  \n",
    "# # model.add(BatchNormalization())  \n",
    "# model.add(MaxPooling2D(pool_size=(2,2), strides=(2, 2)))  \n",
    "# model.add(Dropout(0.5))  \n",
    "\n",
    "########################\n",
    "\n",
    "#2nd convolution layer  \n",
    "model.add(Conv2D(64,(3,3),padding='same'))\n",
    "model.add(Activation('relu'))\n",
    "model.add(BatchNormalization())\n",
    "model.add(Conv2D(64,(3,3),padding='same'))\n",
    "model.add(Activation('relu'))\n",
    "model.add(BatchNormalization())\n",
    "model.add(MaxPool2D(pool_size=(2,2),strides=(2, 2)))\n",
    "model.add(Dropout(0.2))\n",
    "# #2nd convolution layer  \n",
    "# model.add(Conv2D(64, (3, 3), activation='relu'))  \n",
    "# model.add(Conv2D(64, (3, 3), activation='relu'))  \n",
    "# # model.add(BatchNormalization())  \n",
    "# model.add(MaxPooling2D(pool_size=(2,2), strides=(2, 2)))  \n",
    "# model.add(Dropout(0.5))  \n",
    "\n",
    "########################\n",
    "\n",
    "#3rd convolution layer \n",
    "model.add(Conv2D(128,(3,3),padding='same'))\n",
    "model.add(Activation('relu'))\n",
    "model.add(BatchNormalization())\n",
    "model.add(Conv2D(128,(3,3),padding='same'))\n",
    "model.add(Activation('relu'))\n",
    "model.add(BatchNormalization())\n",
    "model.add(MaxPool2D(pool_size=(2,2), strides=(2, 2)))\n",
    "model.add(Dropout(0.2))\n",
    "\n",
    "# model.add(Conv2D(128, (3, 3), activation='relu'))  \n",
    "# model.add(Conv2D(128, (3, 3), activation='relu'))  \n",
    "# # model.add(BatchNormalization())  \n",
    "# model.add(MaxPooling2D(pool_size=(2,2), strides=(2, 2)))  \n",
    "\n",
    "########################\n",
    "\n",
    "#4th convolution layer\n",
    "\n",
    "model.add(Conv2D(256,(3,3),padding='same'))\n",
    "model.add(Activation('relu'))\n",
    "model.add(BatchNormalization())\n",
    "model.add(Conv2D(256,(3,3),padding='same'))\n",
    "model.add(Activation('relu'))\n",
    "model.add(BatchNormalization())\n",
    "model.add(MaxPool2D(pool_size=(2,2), strides=(2, 2)))\n",
    "model.add(Dropout(0.2))\n",
    "\n",
    "########################\n",
    "\n",
    "model.add(Flatten())\n",
    "model.add(Dense(64))\n",
    "model.add(Activation('elu'))\n",
    "model.add(BatchNormalization())\n",
    "model.add(Dropout(0.5))\n",
    " \n",
    "\n",
    "model.add(Dense(64,kernel_initializer='he_normal'))\n",
    "model.add(Activation('elu'))\n",
    "model.add(BatchNormalization())\n",
    "model.add(Dropout(0.5))\n",
    "\n",
    "model.add(Dense(1024, activation='relu'))  \n",
    "model.add(Dropout(0.2))  \n",
    "\n",
    "model.add(Dense(num_labels, activation='softmax'))  \n",
    "\n",
    "# model.summary()  \n",
    "\n",
    "#Compliling the model  \n",
    "model.compile(loss='categorical_crossentropy',  \n",
    "              optimizer=Adam(lr=0.001),  \n",
    "              metrics=['accuracy'])  \n",
    "##\n",
    "earlystop=EarlyStopping(monitor='val_loss',min_delta=0,\n",
    "                        patience=3,\n",
    "                        verbose=1,\n",
    "                        restore_best_weights=True)\n",
    "##\n",
    "reduce_lr=ReduceLROnPlateau(monitor='var_loss',\n",
    "                            factor=0.2,\n",
    "                            patience=3,\n",
    "                            verbose=1,\n",
    "                            min_delta=0.0001)\n",
    "##\n",
    "callbacks=[earlystop,reduce_lr]\n",
    "#Training the model  \n",
    "model.fit(X_train, train_y,  \n",
    "          batch_size=batch_size,  \n",
    "          epochs=epochs,  \n",
    "          callbacks=callbacks,  \n",
    "          validation_data=(X_test, test_y),  \n",
    "          shuffle=True)  \n",
    "\n",
    "\n",
    "#Saving the  model to  use it later on  \n",
    "fer_json = model.to_json()  \n",
    "with open(\"fer2.json\", \"w\") as json_file:  \n",
    "    json_file.write(fer_json)  \n",
    "model.save_weights(\"fer2.h5\") "
   ]
  },
  {
   "cell_type": "code",
   "execution_count": 2,
   "metadata": {},
   "outputs": [],
   "source": [
    "#videotesting file\n",
    "import os  \n",
    "import cv2  \n",
    "import numpy as np  \n",
    "from keras.models import model_from_json  \n",
    "from keras.preprocessing import image  \n",
    "\n",
    "#load model  \n",
    "model = model_from_json(open(\"fer.json\", \"r\").read())  \n",
    "#load weights  \n",
    "model.load_weights('fer.h5')  "
   ]
  },
  {
   "cell_type": "code",
   "execution_count": 23,
   "metadata": {},
   "outputs": [
    {
     "data": {
      "text/plain": [
       "<function destroyAllWindows>"
      ]
     },
     "execution_count": 23,
     "metadata": {},
     "output_type": "execute_result"
    }
   ],
   "source": [
    "#videotesting file\n",
    "import os  \n",
    "import cv2  \n",
    "import numpy as np  \n",
    "from keras.models import model_from_json  \n",
    "from keras.preprocessing import image  \n",
    "\n",
    "#load model  \n",
    "model = model_from_json(open(\"fer3.json\", \"r\").read())  \n",
    "#load weights  \n",
    "model.load_weights('fer3.h5')  \n",
    "\n",
    "\n",
    "face_haar_cascade = cv2.CascadeClassifier('haarcascade_frontalface_default.xml')  \n",
    "\n",
    "\n",
    "cap=cv2.VideoCapture(0)  \n",
    "\n",
    "while True:  \n",
    "    ret,test_img=cap.read()# captures frame and returns boolean value and captured image  \n",
    "    if not ret:  \n",
    "        continue  \n",
    "    gray_img= cv2.cvtColor(test_img, cv2.COLOR_BGR2GRAY)  \n",
    "\n",
    "    faces_detected = face_haar_cascade.detectMultiScale(gray_img, 1.32, 5)  \n",
    "\n",
    "\n",
    "    for (x,y,w,h) in faces_detected:  \n",
    "        cv2.rectangle(test_img,(x,y),(x+w,y+h),(255,0,0),thickness=4)  \n",
    "        roi_gray=gray_img[y:y+w,x:x+h]#cropping region of interest i.e. face area from  image  \n",
    "        roi_gray=cv2.resize(roi_gray,(48,48))  \n",
    "        img_pixels = image.img_to_array(roi_gray)  \n",
    "        img_pixels = np.expand_dims(img_pixels, axis = 0)  \n",
    "        #img_pixels /= 255  \n",
    "\n",
    "        predictions = model.predict(img_pixels)  \n",
    "\n",
    "        #find max indexed array  \n",
    "        max_index = np.argmax(predictions[0])  \n",
    "\n",
    "        emotions = ('angry', 'disgust', 'fear', 'happy', 'sad', 'surprise', 'neutral')  \n",
    "        predicted_emotion = emotions[max_index]  \n",
    "\n",
    "        cv2.putText(test_img, predicted_emotion, (int(x), int(y)), cv2.FONT_HERSHEY_SIMPLEX, 0.5, (0,0,255), 2)  \n",
    "\n",
    "    resized_img = cv2.resize(test_img, (1000, 700))  \n",
    "    cv2.imshow('Facial emotion analysis ',resized_img)  \n",
    "\n",
    "\n",
    "\n",
    "    if cv2.waitKey(10) == ord('q'):#wait until 'q' key is pressed  \n",
    "        break  \n",
    "\n",
    "cap.release()  \n",
    "cv2.destroyAllWindows "
   ]
  },
  {
   "cell_type": "code",
   "execution_count": null,
   "metadata": {},
   "outputs": [],
   "source": []
  },
  {
   "cell_type": "code",
   "execution_count": 4,
   "metadata": {},
   "outputs": [
    {
     "name": "stdout",
     "output_type": "stream",
     "text": [
      "[[24 24 24 ...  5  5  5]\n",
      " [24 24 24 ...  5  5  5]\n",
      " [24 24 24 ...  5  5  5]\n",
      " ...\n",
      " [24 24 24 ...  4  4  4]\n",
      " [24 24 24 ...  4  4  4]\n",
      " [24 24 24 ...  4  4  4]]\n"
     ]
    }
   ],
   "source": [
    "#videotesting file\n",
    "import os  \n",
    "import cv2  \n",
    "import numpy as np  \n",
    "from keras.models import model_from_json  \n",
    "from keras.preprocessing import image  \n",
    "\n",
    "#load model  \n",
    "model = model_from_json(open(\"models/feraug2disonly.json\", \"r\").read())  \n",
    "#load weights  \n",
    "model.load_weights('models/feraug2disonly.h5')  \n",
    "\n",
    "img = cv2.imread(\"snapshots/3.png\")\n",
    "\n",
    "face_haar_cascade = cv2.CascadeClassifier('haarcascade_frontalface_default.xml')  \n",
    "cv2.imshow('Facial emotion analysis ',img)\n",
    "\n",
    "#cap=cv2.VideoCapture(0)  \n",
    "\n",
    " \n",
    "#ret,test_img=img# captures frame and returns boolean value and captured image  \n",
    "  \n",
    "gray_img= cv2.cvtColor(img.copy(), cv2.COLOR_BGR2GRAY)  \n",
    "print(gray_img)\n",
    "faces_detected = face_haar_cascade.detectMultiScale(gray_img, 1.32, 5)  \n",
    "\n",
    "\n",
    "for (x,y,w,h) in faces_detected:  \n",
    "    cv2.rectangle(img,(x,y),(x+w,y+h),(255,0,0),thickness=4)  \n",
    "    roi_gray=gray_img[y:y+w,x:x+h]#cropping region of interest i.e. face area from  image  \n",
    "    roi_gray=cv2.resize(roi_gray,(48,48))  \n",
    "    img_pixels = image.img_to_array(roi_gray)  \n",
    "    img_pixels = np.expand_dims(img_pixels, axis = 0)  \n",
    "        #img_pixels /= 255  \n",
    "\n",
    "    predictions = model.predict(img_pixels)  \n",
    "\n",
    "        #find max indexed array  \n",
    "    max_index = np.argmax(predictions[0])  \n",
    "\n",
    "    emotions = ('angry', 'disgust', 'fear', 'happy', 'sad', 'surprise', 'neutral')  \n",
    "    predicted_emotion = emotions[max_index]  \n",
    "    cv2.putText(img, predicted_emotion, (int(x), int(y)), cv2.FONT_HERSHEY_SIMPLEX, 0.5, (0,0,255), 2)  \n",
    "\n",
    "resized_img = cv2.resize(img, (1000, 700))  \n",
    "cv2.imshow('Facial emotion analysis ',resized_img)  \n",
    "\n",
    "\n",
    "\n",
    "# cv2.imshow(\"Emotion Detector\", image)\n",
    "cv2.waitKey(0)\n",
    "\n",
    "cv2.destroyAllWindows()"
   ]
  },
  {
   "cell_type": "code",
   "execution_count": 17,
   "metadata": {},
   "outputs": [
    {
     "name": "stdout",
     "output_type": "stream",
     "text": [
      "[ 46.  34.  26. ... 165. 180. 189.]\n",
      "[ 4  3  2 ... 16 18 18]\n"
     ]
    }
   ],
   "source": [
    "from PIL import Image, ImageEnhance\n",
    "import numpy as np\n",
    "#read the image\n",
    "im = Image.open(\"test/angry/PrivateTest_10131363.jpg\")\n",
    "print(np.array(list(im.getdata()),'float32'))\n",
    "#image brightness enhancer\n",
    "enhancer = ImageEnhance.Brightness(im)\n",
    "\n",
    "# factor = 1 #gives original image\n",
    "# im_output = enhancer.enhance(factor)\n",
    "# Image.show(im_output)\n",
    "#im_output.save('original-image.png')\n",
    "\n",
    "factor = 0.1 #darkens the image\n",
    "im_output = enhancer.enhance(factor)\n",
    "#im_output.show()\n",
    "pix=list(im_output.getdata())\n",
    "print(np.array(pix))\n",
    "#pix=pix.split(',')\n",
    "#print(pix)\n",
    "#im_output.save('angry_PrivateTest_10131363.jpg-0.1.jpg')\n",
    "\n",
    "# factor = 1.5 #brightens the image\n",
    "# im_output = enhancer.enhance(factor)\n",
    "# im_output.show()\n",
    "#im_output.save('brightened-image.png')"
   ]
  },
  {
   "cell_type": "code",
   "execution_count": 7,
   "metadata": {},
   "outputs": [],
   "source": [
    "image = cv2.imread(\"thermal1.jpg\")"
   ]
  },
  {
   "cell_type": "code",
   "execution_count": 8,
   "metadata": {},
   "outputs": [
    {
     "ename": "TypeError",
     "evalue": "Expected Ptr<cv::UMat> for argument 'src'",
     "output_type": "error",
     "traceback": [
      "\u001b[1;31m---------------------------------------------------------------------------\u001b[0m",
      "\u001b[1;31mTypeError\u001b[0m                                 Traceback (most recent call last)",
      "\u001b[1;32m<ipython-input-8-79b5c4f42e37>\u001b[0m in \u001b[0;36m<module>\u001b[1;34m\u001b[0m\n\u001b[0;32m      8\u001b[0m \u001b[1;33m\u001b[0m\u001b[0m\n\u001b[0;32m      9\u001b[0m \u001b[1;31m# apply gamma correction using the lookup table\u001b[0m\u001b[1;33m\u001b[0m\u001b[1;33m\u001b[0m\u001b[1;33m\u001b[0m\u001b[0m\n\u001b[1;32m---> 10\u001b[1;33m \u001b[0mres\u001b[0m\u001b[1;33m=\u001b[0m\u001b[0mcv2\u001b[0m\u001b[1;33m.\u001b[0m\u001b[0mLUT\u001b[0m\u001b[1;33m(\u001b[0m\u001b[0mimage\u001b[0m\u001b[1;33m,\u001b[0m \u001b[0mtable\u001b[0m\u001b[1;33m)\u001b[0m\u001b[1;33m\u001b[0m\u001b[1;33m\u001b[0m\u001b[0m\n\u001b[0m\u001b[0;32m     11\u001b[0m \u001b[0mcv\u001b[0m\u001b[1;33m.\u001b[0m\u001b[0mimshow\u001b[0m\u001b[1;33m(\u001b[0m\u001b[1;34m'a'\u001b[0m\u001b[1;33m,\u001b[0m\u001b[0mres\u001b[0m\u001b[1;33m)\u001b[0m\u001b[1;33m\u001b[0m\u001b[1;33m\u001b[0m\u001b[0m\n",
      "\u001b[1;31mTypeError\u001b[0m: Expected Ptr<cv::UMat> for argument 'src'"
     ]
    }
   ],
   "source": [
    "import numpy as np\n",
    "import cv2  \n",
    "from keras.preprocessing import image  \n",
    "\n",
    "invGamma = 1.0 / 0.4\n",
    "table = np.array([((i / 255.0) ** invGamma) * 255\n",
    "    for i in np.arange(0, 256)]).astype(\"uint8\")\n",
    "\n",
    "# apply gamma correction using the lookup table\n",
    "res=cv2.LUT(image, table)\n",
    "cv.imshow('a',res)"
   ]
  },
  {
   "cell_type": "code",
   "execution_count": 1,
   "metadata": {},
   "outputs": [
    {
     "ename": "NameError",
     "evalue": "name 'args' is not defined",
     "output_type": "error",
     "traceback": [
      "\u001b[1;31m---------------------------------------------------------------------------\u001b[0m",
      "\u001b[1;31mNameError\u001b[0m                                 Traceback (most recent call last)",
      "\u001b[1;32m<ipython-input-1-8a29e012e15d>\u001b[0m in \u001b[0;36m<module>\u001b[1;34m\u001b[0m\n\u001b[0;32m     10\u001b[0m \u001b[0mimage\u001b[0m \u001b[1;33m=\u001b[0m \u001b[0mcv\u001b[0m\u001b[1;33m.\u001b[0m\u001b[0mimread\u001b[0m\u001b[1;33m(\u001b[0m\u001b[1;34m\"audience.png\"\u001b[0m\u001b[1;33m)\u001b[0m\u001b[1;33m\u001b[0m\u001b[1;33m\u001b[0m\u001b[0m\n\u001b[0;32m     11\u001b[0m \u001b[1;32mif\u001b[0m \u001b[0mimage\u001b[0m \u001b[1;32mis\u001b[0m \u001b[1;32mNone\u001b[0m\u001b[1;33m:\u001b[0m\u001b[1;33m\u001b[0m\u001b[1;33m\u001b[0m\u001b[0m\n\u001b[1;32m---> 12\u001b[1;33m     \u001b[0mprint\u001b[0m\u001b[1;33m(\u001b[0m\u001b[1;34m'Could not open or find the image: '\u001b[0m\u001b[1;33m,\u001b[0m \u001b[0margs\u001b[0m\u001b[1;33m.\u001b[0m\u001b[0minput\u001b[0m\u001b[1;33m)\u001b[0m\u001b[1;33m\u001b[0m\u001b[1;33m\u001b[0m\u001b[0m\n\u001b[0m\u001b[0;32m     13\u001b[0m     \u001b[0mexit\u001b[0m\u001b[1;33m(\u001b[0m\u001b[1;36m0\u001b[0m\u001b[1;33m)\u001b[0m\u001b[1;33m\u001b[0m\u001b[1;33m\u001b[0m\u001b[0m\n\u001b[0;32m     14\u001b[0m \u001b[0mnew_image\u001b[0m \u001b[1;33m=\u001b[0m \u001b[0mnp\u001b[0m\u001b[1;33m.\u001b[0m\u001b[0mzeros\u001b[0m\u001b[1;33m(\u001b[0m\u001b[0mimage\u001b[0m\u001b[1;33m.\u001b[0m\u001b[0mshape\u001b[0m\u001b[1;33m,\u001b[0m \u001b[0mimage\u001b[0m\u001b[1;33m.\u001b[0m\u001b[0mdtype\u001b[0m\u001b[1;33m)\u001b[0m\u001b[1;33m\u001b[0m\u001b[1;33m\u001b[0m\u001b[0m\n",
      "\u001b[1;31mNameError\u001b[0m: name 'args' is not defined"
     ]
    }
   ],
   "source": [
    "from __future__ import print_function\n",
    "from builtins import input\n",
    "import cv2 as cv\n",
    "import numpy as np\n",
    "import argparse\n",
    "# Read image given by user\n",
    "# parser = argparse.ArgumentParser(description='Code for Changing the contrast and brightness of an image! tutorial.')\n",
    "# parser.add_argument('--input', help='Path to input image.', default='lena.jpg')\n",
    "# args = parser.parse_args()\n",
    "image = cv.imread(\"audience.png\")\n",
    "if image is None:\n",
    "    print('Could not open or find the image: ', args.input)\n",
    "    exit(0)\n",
    "new_image = np.zeros(image.shape, image.dtype)\n",
    "alpha = 1.0 # Simple contrast control\n",
    "beta = 0    # Simple brightness control\n",
    "# Initialize values\n",
    "print(' Basic Linear Transforms ')\n",
    "print('-------------------------')\n",
    "try:\n",
    "    alpha = float(input('* Enter the alpha value [1.0-3.0]: '))\n",
    "    beta = int(input('* Enter the beta value [0-100]: '))\n",
    "except ValueError:\n",
    "    print('Error, not a number')\n",
    "# Do the operation new_image(i,j) = alpha*image(i,j) + beta\n",
    "# Instead of these 'for' loops we could have used simply:\n",
    "# new_image = cv.convertScaleAbs(image, alpha=alpha, beta=beta)\n",
    "# but we wanted to show you how to access the pixels :)\n",
    "for y in range(image.shape[0]):\n",
    "    for x in range(image.shape[1]):\n",
    "        for c in range(image.shape[2]):\n",
    "            new_image[y,x,c] = np.clip(alpha*image[y,x,c] + beta, 0, 255)\n",
    "cv.imshow('Original Image', image)\n",
    "cv.imshow('New Image', new_image)\n",
    "#cv.imwrite('surpriseaplha0.2beta20.jpg')\n",
    "# Wait until user press some key\n",
    "cv.waitKey()\n"
   ]
  },
  {
   "cell_type": "code",
   "execution_count": null,
   "metadata": {},
   "outputs": [],
   "source": [
    "import pandas as pd\n",
    "import numpy as np\n",
    "from PIL import Image\n",
    "\n",
    "df = pd.read_csv('fer2013.csv')\n",
    "\n",
    "for image_pixels in df2.iloc[1:,1]: #column 2 has the pixels. Row 1 is column name.\n",
    "    image_string = image_pixels.split(' ') #pixels are separated by spaces.\n",
    "    image_data = np.asarray(image_string, dtype=np.uint8).reshape(48,48)\n",
    "    img = Image.fromarray(image_data) #final image\n",
    "    plt.imshow(img, interpolation='none')"
   ]
  },
  {
   "cell_type": "code",
   "execution_count": 2,
   "metadata": {},
   "outputs": [],
   "source": [
    "######\n",
    "# per class accuracy calculation(('angry', 'disgust', 'fear', 'happy', 'sad', 'surprise', 'neutral') )"
   ]
  },
  {
   "cell_type": "code",
   "execution_count": 44,
   "metadata": {},
   "outputs": [],
   "source": [
    "pu_a,pu_d,pu_f,pu_h,pu_sa,pu_s,pu_n=[],[],[],[],[],[],[]\n",
    "pu_a_y,pu_d_y,pu_f_y,pu_h_y,pu_sa_y,pu_s_y,pu_n_y=[],[],[],[],[],[],[]\n",
    "#######\n",
    "pr_a,pr_d,pr_f,pr_h,pr_sa,pr_s,pr_n=[],[],[],[],[],[],[]\n",
    "pr_a_y,pr_d_y,pr_f_y,pr_h_y,pr_sa_y,pr_s_y,pr_n_y=[],[],[],[],[],[],[]"
   ]
  },
  {
   "cell_type": "code",
   "execution_count": 45,
   "metadata": {},
   "outputs": [],
   "source": [
    "# 1. angry\n",
    "from keras.utils import np_utils  \n",
    "df=pd.read_csv(\"fer2013.csv\")\n",
    "for index, row in df.iterrows():  \n",
    "    val=row['pixels'].split(\" \")\n",
    "    if 'PublicTest' in row['Usage']:\n",
    "        if row['emotion']==0:\n",
    "            pu_a.append(np.array(val,'float32'))\n",
    "            pu_a_y.append(row['emotion'])\n",
    "        elif row['emotion']==1:\n",
    "            pu_d.append(np.array(val,'float32'))\n",
    "            pu_d_y.append(row['emotion'])\n",
    "        elif row['emotion']==2:\n",
    "            pu_f.append(np.array(val,'float32'))\n",
    "            pu_f_y.append(row['emotion'])\n",
    "        elif row['emotion']==3:\n",
    "            pu_h.append(np.array(val,'float32'))\n",
    "            pu_h_y.append(row['emotion'])\n",
    "        elif row['emotion']==4:\n",
    "            pu_sa.append(np.array(val,'float32'))\n",
    "            pu_sa_y.append(row['emotion'])\n",
    "        elif row['emotion']==5:\n",
    "            pu_s.append(np.array(val,'float32'))\n",
    "            pu_s_y.append(row['emotion'])\n",
    "        elif row['emotion']==6:\n",
    "            pu_n.append(np.array(val,'float32'))\n",
    "            pu_n_y.append(row['emotion'])\n",
    "    elif 'PrivateTest' in row['Usage']:\n",
    "        if row['emotion']==0:\n",
    "            pr_a.append(np.array(val,'float32'))\n",
    "            pr_a_y.append(row['emotion'])\n",
    "        elif row['emotion']==1:\n",
    "            pr_d.append(np.array(val,'float32'))\n",
    "            pr_d_y.append(row['emotion'])\n",
    "        elif row['emotion']==2:\n",
    "            pr_f.append(np.array(val,'float32'))\n",
    "            pr_f_y.append(row['emotion'])\n",
    "        elif row['emotion']==3:\n",
    "            pr_h.append(np.array(val,'float32'))\n",
    "            pr_h_y.append(row['emotion'])\n",
    "        elif row['emotion']==4:\n",
    "            pr_sa.append(np.array(val,'float32'))\n",
    "            pr_sa_y.append(row['emotion'])\n",
    "        elif row['emotion']==5:\n",
    "            pr_s.append(np.array(val,'float32'))\n",
    "            pr_s_y.append(row['emotion'])\n",
    "        elif row['emotion']==6:\n",
    "            pr_n.append(np.array(val,'float32'))\n",
    "            pr_n_y.append(row['emotion'])"
   ]
  },
  {
   "cell_type": "code",
   "execution_count": 46,
   "metadata": {},
   "outputs": [],
   "source": [
    " \n",
    "num_labels = 7   \n",
    "width, height = 48, 48  \n",
    "pu_a = np.array(pu_a,'float32')  \n",
    "pu_a_y = np.array(pu_a_y,'float32')  \n",
    "pu_d = np.array(pu_d,'float32')  \n",
    "pu_d_y = np.array(pu_d_y,'float32')  \n",
    "pu_f = np.array(pu_f,'float32')  \n",
    "pu_f_y = np.array(pu_f_y,'float32')  \n",
    "pu_h = np.array(pu_h,'float32')  \n",
    "pu_h_y = np.array(pu_h_y,'float32')  \n",
    "pu_sa = np.array(pu_sa,'float32')  \n",
    "pu_sa_y = np.array(pu_sa_y,'float32')  \n",
    "pu_s = np.array(pu_s,'float32')  \n",
    "pu_s_y = np.array(pu_s_y,'float32')  \n",
    "pu_n = np.array(pu_n,'float32')  \n",
    "pu_n_y = np.array(pu_n_y,'float32')  \n",
    "####\n",
    "pr_a = np.array(pr_a,'float32')  \n",
    "pr_a_y = np.array(pr_a_y,'float32')  \n",
    "pr_d = np.array(pr_d,'float32')  \n",
    "pr_d_y = np.array(pr_d_y,'float32')  \n",
    "pr_f = np.array(pr_f,'float32')  \n",
    "pr_f_y = np.array(pr_f_y,'float32')  \n",
    "pr_h = np.array(pr_h,'float32')  \n",
    "pr_h_y = np.array(pr_h_y,'float32')  \n",
    "pr_sa = np.array(pr_sa,'float32')  \n",
    "pr_sa_y = np.array(pr_sa_y,'float32')  \n",
    "pr_s = np.array(pr_s,'float32')  \n",
    "pr_s_y = np.array(pr_s_y,'float32')  \n",
    "pr_n = np.array(pr_n,'float32')  \n",
    "pr_n_y = np.array(pr_n_y,'float32')  \n",
    "##\n",
    "\n",
    "\n",
    "pu_a_y=np_utils.to_categorical(pu_a_y, num_classes=num_labels)  \n",
    "pu_d_y=np_utils.to_categorical(pu_d_y, num_classes=num_labels)  \n",
    "pu_f_y=np_utils.to_categorical(pu_f_y, num_classes=num_labels)  \n",
    "pu_h_y=np_utils.to_categorical(pu_h_y, num_classes=num_labels)  \n",
    "pu_sa_y=np_utils.to_categorical(pu_sa_y, num_classes=num_labels)  \n",
    "pu_s_y=np_utils.to_categorical(pu_s_y, num_classes=num_labels)  \n",
    "pu_n_y=np_utils.to_categorical(pu_n_y, num_classes=num_labels)  \n",
    "\n",
    "pr_a_y=np_utils.to_categorical(pr_a_y, num_classes=num_labels)  \n",
    "pr_d_y=np_utils.to_categorical(pr_d_y, num_classes=num_labels)  \n",
    "pr_f_y=np_utils.to_categorical(pr_f_y, num_classes=num_labels)  \n",
    "pr_h_y=np_utils.to_categorical(pr_h_y, num_classes=num_labels)  \n",
    "pr_sa_y=np_utils.to_categorical(pr_sa_y, num_classes=num_labels)  \n",
    "pr_s_y=np_utils.to_categorical(pr_s_y, num_classes=num_labels)  \n",
    "pr_n_y=np_utils.to_categorical(pr_n_y, num_classes=num_labels)  \n",
    "\n",
    "#cannot produce  \n",
    "#normalizing data between oand 1  \n",
    "pu_a -= np.mean(pu_a, axis=0)  \n",
    "pu_a /= np.std(pu_a, axis=0)  \n",
    "pu_d -= np.mean(pu_d, axis=0)  \n",
    "pu_d /= np.std(pu_d, axis=0) \n",
    "pu_f -= np.mean(pu_f, axis=0)  \n",
    "pu_f /= np.std(pu_f, axis=0) \n",
    "pu_h -= np.mean(pu_h, axis=0)  \n",
    "pu_h /= np.std(pu_h, axis=0) \n",
    "pu_sa -= np.mean(pu_sa, axis=0)  \n",
    "pu_sa /= np.std(pu_sa, axis=0) \n",
    "pu_s -= np.mean(pu_s, axis=0)  \n",
    "pu_s /= np.std(pu_s, axis=0) \n",
    "pu_n -= np.mean(pu_n, axis=0)  \n",
    "pu_n /= np.std(pu_n, axis=0) \n",
    "\n",
    "pr_a -= np.mean(pr_a, axis=0)  \n",
    "pr_a /= np.std(pr_a, axis=0)  \n",
    "pr_d -= np.mean(pr_d, axis=0)  \n",
    "pr_d /= np.std(pr_d, axis=0) \n",
    "pr_f -= np.mean(pr_f, axis=0)  \n",
    "pr_f /= np.std(pr_f, axis=0) \n",
    "pr_h -= np.mean(pr_h, axis=0)  \n",
    "pr_h /= np.std(pr_h, axis=0) \n",
    "pr_sa -= np.mean(pr_sa, axis=0)  \n",
    "pr_sa /= np.std(pr_sa, axis=0) \n",
    "pr_s -= np.mean(pr_s, axis=0)  \n",
    "pr_s /= np.std(pr_s, axis=0) \n",
    "pr_n -= np.mean(pr_n, axis=0)  \n",
    "pr_n /= np.std(pr_n, axis=0) \n",
    "\n",
    "\n",
    "\n",
    "# X_test -= np.mean(X_test, axis=0)  \n",
    "# X_test /= np.std(X_test, axis=0)  \n",
    "\n",
    "pu_a = pu_a.reshape(pu_a.shape[0], 48, 48, 1)  \n",
    "pu_d = pu_d.reshape(pu_d.shape[0], 48, 48, 1)  \n",
    "pu_f = pu_f.reshape(pu_f.shape[0], 48, 48, 1)  \n",
    "pu_h = pu_h.reshape(pu_h.shape[0], 48, 48, 1)  \n",
    "pu_sa = pu_sa.reshape(pu_sa.shape[0], 48, 48, 1)  \n",
    "pu_s = pu_s.reshape(pu_s.shape[0], 48, 48, 1)  \n",
    "pu_n = pu_n.reshape(pu_n.shape[0], 48, 48, 1)  \n",
    "\n",
    "pr_a = pr_a.reshape(pr_a.shape[0], 48, 48, 1)  \n",
    "pr_d = pr_d.reshape(pr_d.shape[0], 48, 48, 1)  \n",
    "pr_f = pr_f.reshape(pr_f.shape[0], 48, 48, 1)  \n",
    "pr_h = pr_h.reshape(pr_h.shape[0], 48, 48, 1)  \n",
    "pr_sa = pr_sa.reshape(pr_sa.shape[0], 48, 48, 1)  \n",
    "pr_s = pr_s.reshape(pr_s.shape[0], 48, 48, 1)  \n",
    "pr_n = pr_n.reshape(pr_n.shape[0], 48, 48, 1)  \n",
    "\n",
    "# X_test = X_test.reshape(X_test.shape[0], 48, 48, 1)"
   ]
  },
  {
   "cell_type": "code",
   "execution_count": 49,
   "metadata": {},
   "outputs": [
    {
     "name": "stdout",
     "output_type": "stream",
     "text": [
      "0.24431818181818182\n"
     ]
    }
   ],
   "source": [
    "model = model_from_json(open(\"fer3.json\", \"r\").read())  \n",
    "#load weights  \n",
    "model.load_weights('fer3.h5')  \n",
    "pr_f_o=[]\n",
    "for i in pr_f:\n",
    "    pr_f_o.append(np.argmax(model.predict(i.reshape(1,48,48,1))))\n",
    "pr_f_o2=np_utils.to_categorical(pr_f_o, num_classes=num_labels)\n",
    "import sklearn\n",
    "from sklearn.metrics import accuracy_score\n",
    "\n",
    "print(sklearn.metrics.accuracy_score(pr_f_y, pr_f_o2))"
   ]
  },
  {
   "cell_type": "code",
   "execution_count": 69,
   "metadata": {},
   "outputs": [
    {
     "data": {
      "text/plain": [
       "<function destroyAllWindows>"
      ]
     },
     "execution_count": 69,
     "metadata": {},
     "output_type": "execute_result"
    }
   ],
   "source": [
    "#videotesting file\n",
    "import os  \n",
    "import cv2  \n",
    "import numpy as np  \n",
    "from keras.models import model_from_json  \n",
    "from keras.preprocessing import image  \n",
    "\n",
    "#load model  \n",
    "model = model_from_json(open(\"ferbin.json\", \"r\").read())  \n",
    "#load weights  \n",
    "model.load_weights('ferbin.h5')  \n",
    "\n",
    "\n",
    "face_haar_cascade = cv2.CascadeClassifier('haarcascade_frontalface_default.xml')  \n",
    "\n",
    "\n",
    "cap=cv2.VideoCapture(0)  \n",
    "\n",
    "while True:  \n",
    "    ret,test_img=cap.read()# captures frame and returns boolean value and captured image  \n",
    "    if not ret:  \n",
    "        continue  \n",
    "    gray_img= cv2.cvtColor(test_img, cv2.COLOR_BGR2GRAY)  \n",
    "\n",
    "    faces_detected = face_haar_cascade.detectMultiScale(gray_img, 1.32, 5)  \n",
    "\n",
    "\n",
    "    for (x,y,w,h) in faces_detected:  \n",
    "        cv2.rectangle(test_img,(x,y),(x+w,y+h),(255,0,0),thickness=4)  \n",
    "        roi_gray=gray_img[y:y+w,x:x+h]#cropping region of interest i.e. face area from  image  \n",
    "        roi_gray=cv2.resize(roi_gray,(48,48))  \n",
    "        img_pixels = image.img_to_array(roi_gray)  \n",
    "        img_pixels = np.expand_dims(img_pixels, axis = 0)  \n",
    "        #img_pixels /= 255  \n",
    "\n",
    "        predictions = model.predict(img_pixels)  \n",
    "\n",
    "        #find max indexed array  \n",
    "        max_index = np.argmax(predictions[0])  \n",
    "\n",
    "        emotions = ('Interested','NotInterested')  \n",
    "        predicted_emotion = emotions[max_index]  \n",
    "\n",
    "        cv2.putText(test_img, predicted_emotion, (int(x), int(y)), cv2.FONT_HERSHEY_SIMPLEX, 0.5, (0,0,255), 2)  \n",
    "\n",
    "    resized_img = cv2.resize(test_img, (1000, 700))  \n",
    "    cv2.imshow('Facial emotion analysis ',resized_img)  \n",
    "\n",
    "\n",
    "\n",
    "    if cv2.waitKey(10) == ord('q'):#wait until 'q' key is pressed  \n",
    "        break  \n",
    "\n",
    "cap.release()  \n",
    "cv2.destroyAllWindows "
   ]
  },
  {
   "cell_type": "code",
   "execution_count": 2,
   "metadata": {},
   "outputs": [
    {
     "data": {
      "text/plain": [
       "6    6868\n",
       "3    5696\n",
       "5     368\n",
       "4     268\n",
       "0     261\n",
       "1     208\n",
       "2      21\n",
       "Name: label, dtype: int64"
      ]
     },
     "execution_count": 2,
     "metadata": {},
     "output_type": "execute_result"
    }
   ],
   "source": [
    "import pandas as pd\n",
    "import numpy as np\n",
    "train_csv = pd.read_csv('legend.csv')\n",
    "train_csv['emotion'] = train_csv['emotion'].str.lower()\n",
    "train_csv.groupby('emotion').count()\n",
    "train_csv.replace(\"contempt\", \"anger\", inplace=True)\n",
    "mapping_emotion = {'anger': 0, 'disgust': 1, 'fear': 2, 'happiness': 3, 'neutral': 6, 'sadness': 4, 'surprise': 5}\n",
    "train_csv['label'] = train_csv['emotion'].map(mapping_emotion)\n",
    "train_csv['label'].value_counts()"
   ]
  },
  {
   "cell_type": "code",
   "execution_count": 3,
   "metadata": {},
   "outputs": [],
   "source": [
    "data = []\n",
    "labels = []\n",
    "data_disgust=[]\n",
    "labels_disgust=[]"
   ]
  },
  {
   "cell_type": "code",
   "execution_count": null,
   "metadata": {},
   "outputs": [],
   "source": [
    "import glob\n",
    "import cv2 as cv\n",
    "import os\n",
    "from keras.preprocessing.image import img_to_array\n",
    "import cv2  \n",
    "from keras.models import Sequential\n",
    "from keras.layers import Conv2D, MaxPooling2D\n",
    "from keras.layers import Activation, Dropout, Flatten, Dense\n",
    "import pandas as pd\n",
    "import numpy as np\n",
    "from PIL import Image\n",
    "import cv2\n",
    "from keras.utils import np_utils\n",
    "from PIL import Image, ImageEnhance\n",
    "import torch\n",
    "import torch.nn as nn\n",
    "import torchvision\n",
    "import torch.backends.cudnn as cudnn\n",
    "import torch.optim\n",
    "import os\n",
    "import sys\n",
    "import argparse\n",
    "import time\n",
    "import dataloader\n",
    "import model\n",
    "import numpy as np\n",
    "from torchvision import transforms\n",
    "from PIL import Image\n",
    "import glob\n",
    "import time\n",
    "from keras.optimizers import RMSprop,SGD,Adam\n",
    "from keras.callbacks import ModelCheckpoint,EarlyStopping,ReduceLROnPlateau\n",
    "#dense layer:classic fully connected neural network layer:each input node is connected to each output node.\n",
    "#Dropout layer:similar except that when the layer is used, the activations are set to zero for some random nodes. This is a way to prevent overfitting.\n",
    "#activation functions help in reducing unneccessary noise\n",
    "#activation functions help the network use the important information and suppress the irrelevant data points.\n",
    "#flatten:didn't understand fully but i think it is used to convert matrix to single array\n",
    "#Flattening a tensor means to remove all of the dimensions except for one. This is exactly what the Flatten layer do.\n",
    "from keras.layers import Dense, Dropout, Activation, Flatten  \n",
    "#Conv2D for two dimensional convolutions network\n",
    "# Max pooling is a sample-based discretization process. \n",
    "# The objective is to down-sample an input representation\n",
    "#  (image, hidden-layer output matrix, etc.), reducing its\n",
    "#   dimensionality and allowing for assumptions to be made about features\n",
    "#   contained in the sub-regions binned.\n",
    "#Batch Normalization helps in accelearting the learning DNNs\n",
    "#Average Pooling2d:Bouncer\n",
    "from keras.layers import Conv2D, MaxPooling2D, BatchNormalization,AveragePooling2D\n",
    "#categorical_crossentropy : don't know\n",
    "from keras.losses import categorical_crossentropy  \n",
    "#adam:replacement optimization algorithm for stochastic gradient descent for training deep learning models.#don't understand what it is \n",
    "from keras.optimizers import Adam  \n",
    "#l2:allows you to add a penalty for weight size to the loss function\n",
    "from keras.regularizers import l2 \n",
    "#np_utils:Numpy-related utilities. \n",
    "from keras.utils import np_utils  \n",
    "import pandas as pd\n",
    "# why is it commented out??\n",
    "# pd.set_option('display.max_rows', 500)  \n",
    "# pd.set_option('display.max_columns', 500)  \n",
    "# pd.set_option('display.width', 1000)  \n",
    "import os  \n",
    "import cv2  \n",
    "import numpy as np  \n",
    "from keras.models import model_from_json  \n",
    "from keras.preprocessing import image \n",
    "j = 0\n",
    "for img in glob.glob(\"trainhrus\"+\"/*.jpg\"):\n",
    "    \n",
    "    name = img.split('\\\\')[-1]\n",
    "    a=(train_csv[train_csv['image'] == name][['label']].values)\n",
    "    if a.size:\n",
    "        image = Image.open(img)\n",
    "        enhancer = ImageEnhance.Brightness(image)\n",
    "        factor = 0.1 #darkens the image\n",
    "        im_output = enhancer.enhance(factor)\n",
    "        save_loc=\"dark_hrus/\"+str(a[0][0])+'/'+str(j)+\".jpg\"\n",
    "        im_output.save(save_loc)\n",
    "        os.environ['CUDA_VISIBLE_DEVICES']='0'\n",
    "        data_lowlight = Image.open(save_loc).convert('RGB')\n",
    "        data_lowlight = (np.asarray(data_lowlight)/255.0)\n",
    "        data_lowlight = torch.from_numpy(data_lowlight).float()\n",
    "        data_lowlight = data_lowlight.permute(2,0,1)\n",
    "        data_lowlight = data_lowlight.unsqueeze(0)\n",
    "        DCE_net = model.enhance_net_nopool()\n",
    "        DCE_net.load_state_dict(torch.load('snapshots/Epoch99.pth',map_location=torch.device('cpu')))\n",
    "        #start = time.time()\n",
    "        _,enhanced_image,_ = DCE_net(data_lowlight)\n",
    "        image_path =\"dce_hrus/\"+str(a[0][0])+'/'+str(j)+\".jpg\"\n",
    "        result_path = image_path\n",
    "#         if not os.path.exists(image_path.replace('/'+image_path.split(\"/\")[-1],'')):    \n",
    "#             os.makedirs(image_path.replace('/'+image_path.split(\"/\")[-1],''))\n",
    "        torchvision.utils.save_image(enhanced_image, result_path)\n",
    "        im=cv2.imread(image_path)\n",
    "        im=cv2.cvtColor(im, cv2.COLOR_BGR2GRAY)\n",
    "        im= cv.resize(im, (48,48))\n",
    "        data.append(np.array(im,'float32'))\n",
    "        labels.append(a[0][0])\n",
    "        if a[0][0]==1:\n",
    "            data_disgust.append(np.array(im,'float32'))\n",
    "            labels_disgust.append(a[0][0])\n",
    "        j=j+1\n",
    "        \n",
    "        \n",
    "    "
   ]
  },
  {
   "cell_type": "code",
   "execution_count": null,
   "metadata": {},
   "outputs": [],
   "source": []
  },
  {
   "cell_type": "code",
   "execution_count": 2,
   "metadata": {},
   "outputs": [],
   "source": [
    "\n",
    "#Sequential to build a model layer by layer..Each layer has weights that correspond to the layer the follows it..\n",
    "from tensorflow.keras.models import Sequential \n",
    "from tensorflow.keras.layers import Dense, Dropout, Activation, Flatten  \n",
    "from tensorflow.keras.layers import Conv2D, MaxPooling2D, BatchNormalization,AveragePooling2D\n",
    "#categorical_crossentropy : don't know\n",
    "from tensorflow.keras.losses import categorical_crossentropy  \n",
    "#adam:replacement optimization algorithm for stochastic gradient descent for training deep learning models.#don't understand what it is \n",
    "from tensorflow.keras.optimizers import Adam  \n",
    "#l2:allows you to add a penalty for weight size to the loss function\n",
    "from tensorflow.keras.regularizers import l2 \n",
    "#np_utils:Numpy-related utilities. \n",
    "from keras.utils import np_utils  \n",
    "import pandas as pd\n",
    "import cv2\n",
    "import numpy as np\n",
    "from keras.callbacks import ModelCheckpoint,EarlyStopping,ReduceLROnPlateau\n",
    "df=pd.read_csv('fer2013.csv')  \n",
    "X_train,train_y,X_test,test_y=[],[],[],[]  \n",
    "j=0\n",
    "for index, row in df.iterrows():  \n",
    "    j=j+1\n",
    "#     val=np.asarray(list(row['pixels'].split(' ')),dtype=np.uint8)\n",
    "#     img=val.reshape((48,48))\n",
    "#     new_image = Image.fromarray(img)\n",
    "#     enhancer = ImageEnhance.Brightness(new_image)\n",
    "#     factor = 0.1 #darkens the image\n",
    "#     im_output = enhancer.enhance(factor)\n",
    "#     save_loc=\"dark_fer/\"+row['Usage']+'/'+str(row['emotion'])+'/'+str(j)+\".jpg\"\n",
    "#     im_output.save(save_loc)\n",
    "#     os.environ['CUDA_VISIBLE_DEVICES']='0'\n",
    "#     data_lowlight = Image.open(save_loc).convert('RGB')\n",
    "#     data_lowlight = (np.asarray(data_lowlight)/255.0)\n",
    "#     data_lowlight = torch.from_numpy(data_lowlight).float()\n",
    "#     data_lowlight = data_lowlight.permute(2,0,1)\n",
    "#     data_lowlight = data_lowlight.unsqueeze(0)\n",
    "#     DCE_net = model.enhance_net_nopool()\n",
    "#     DCE_net.load_state_dict(torch.load('snapshots/Epoch99.pth',map_location=torch.device('cpu')))\n",
    "#     start = time.time()\n",
    "#     _,enhanced_image,_ = DCE_net(data_lowlight)\n",
    "    image_path = 'dce_fer/'+row['Usage']+'/'+str(row['emotion'])+'/'+str(j)+'.jpg'\n",
    "#     result_path = image_path\n",
    "#     if not os.path.exists(image_path.replace('/'+image_path.split(\"/\")[-1],'')):\n",
    "#         os.makedirs(image_path.replace('/'+image_path.split(\"/\")[-1],''))\n",
    "#     torchvision.utils.save_image(enhanced_image, result_path)\n",
    "    im=cv2.imread(image_path)\n",
    "    #im=cv2.cvtColor(im, cv2.COLOR_BGR2GRAY)\n",
    "    im= cv2.resize(im, (48,48))\n",
    "    if 'Training' in row['Usage']:\n",
    "        if (row['emotion']==1 or row['emotion']==6):\n",
    "            X_train.append(np.array(im,'float32'))  \n",
    "            train_y.append(0)\n",
    "        else:\n",
    "            X_train.append(np.array(im,'float32'))  \n",
    "            train_y.append(1)\n",
    "    elif 'PublicTest' in row['Usage']:  \n",
    "        if (row['emotion']==1 or row['emotion']==6):\n",
    "            X_test.append(np.array(im,'float32'))  \n",
    "            test_y.append(0)\n",
    "        else:\n",
    "            X_test.append(np.array(im,'float32'))  \n",
    "            test_y.append(1)\n",
    "num_features = 64  \n",
    "num_labels = 2  \n",
    "batch_size = 64  \n",
    "epochs = 30  \n",
    "width, height = 48, 48  \n",
    "\n",
    "\n",
    "train_y=np_utils.to_categorical(train_y, num_classes=2)  \n",
    "test_y=np_utils.to_categorical(test_y, num_classes=2)  \n",
    "\n",
    " \n",
    "X_train -= np.mean(X_train, axis=0)  \n",
    "X_train /= np.std(X_train, axis=0)  \n",
    "\n",
    "X_test -= np.mean(X_test, axis=0)  \n",
    "X_test /= np.std(X_test, axis=0)  \n",
    "\n",
    "X_train = X_train.reshape(X_train.shape[0], 48, 48, 3)  \n",
    "\n",
    "X_test = X_test.reshape(X_test.shape[0], 48, 48, 3)  \n"
   ]
  },
  {
   "cell_type": "code",
   "execution_count": 4,
   "metadata": {},
   "outputs": [
    {
     "data": {
      "text/plain": [
       "array([[0., 1.],\n",
       "       [1., 0.],\n",
       "       [0., 1.],\n",
       "       ...,\n",
       "       [0., 1.],\n",
       "       [0., 1.],\n",
       "       [0., 1.]], dtype=float32)"
      ]
     },
     "execution_count": 4,
     "metadata": {},
     "output_type": "execute_result"
    }
   ],
   "source": [
    "test_y"
   ]
  },
  {
   "cell_type": "code",
   "execution_count": 5,
   "metadata": {
    "scrolled": true
   },
   "outputs": [
    {
     "name": "stdout",
     "output_type": "stream",
     "text": [
      "Epoch 1/30\n",
      "449/449 [==============================] - 318s 699ms/step - loss: 0.4972 - accuracy: 0.8051 - val_loss: 0.5470 - val_accuracy: 0.7342\n",
      "Epoch 2/30\n"
     ]
    },
    {
     "name": "stderr",
     "output_type": "stream",
     "text": [
      "C:\\Users\\dmsss\\anaconda3\\envs\\env2\\lib\\site-packages\\keras\\callbacks\\callbacks.py:1042: RuntimeWarning: Reduce LR on plateau conditioned on metric `var_loss` which is not available. Available metrics are: loss,accuracy,val_loss,val_accuracy,lr\n",
      "  (self.monitor, ','.join(list(logs.keys()))), RuntimeWarning\n"
     ]
    },
    {
     "name": "stdout",
     "output_type": "stream",
     "text": [
      "449/449 [==============================] - 321s 714ms/step - loss: 0.4623 - accuracy: 0.8081 - val_loss: 0.4388 - val_accuracy: 0.8150\n",
      "Epoch 3/30\n",
      "449/449 [==============================] - 389s 868ms/step - loss: 0.4426 - accuracy: 0.8102 - val_loss: 0.4292 - val_accuracy: 0.8178\n",
      "Epoch 4/30\n",
      "449/449 [==============================] - 675s 2s/step - loss: 0.4254 - accuracy: 0.8158 - val_loss: 0.4174 - val_accuracy: 0.8247\n",
      "Epoch 5/30\n",
      "449/449 [==============================] - 682s 2s/step - loss: 0.4064 - accuracy: 0.8215 - val_loss: 0.4163 - val_accuracy: 0.8214\n",
      "Epoch 6/30\n",
      "449/449 [==============================] - 691s 2s/step - loss: 0.3941 - accuracy: 0.8233 - val_loss: 0.4473 - val_accuracy: 0.7994\n",
      "Epoch 7/30\n",
      "449/449 [==============================] - 696s 2s/step - loss: 0.3848 - accuracy: 0.8313 - val_loss: 0.4184 - val_accuracy: 0.8217\n",
      "Epoch 8/30\n",
      "449/449 [==============================] - 678s 2s/step - loss: 0.3770 - accuracy: 0.8308 - val_loss: 0.4054 - val_accuracy: 0.8228\n",
      "Epoch 9/30\n",
      "449/449 [==============================] - 656s 1s/step - loss: 0.3549 - accuracy: 0.8414 - val_loss: 0.4007 - val_accuracy: 0.8183\n",
      "Epoch 10/30\n",
      "449/449 [==============================] - 647s 1s/step - loss: 0.3364 - accuracy: 0.8538 - val_loss: 0.4124 - val_accuracy: 0.8228\n",
      "Epoch 11/30\n",
      "449/449 [==============================] - 625s 1s/step - loss: 0.3256 - accuracy: 0.8578 - val_loss: 0.4081 - val_accuracy: 0.8169\n",
      "Epoch 12/30\n",
      "449/449 [==============================] - 473s 1s/step - loss: 0.3023 - accuracy: 0.8695 - val_loss: 0.4248 - val_accuracy: 0.8142\n",
      "Epoch 13/30\n",
      "449/449 [==============================] - 464s 1s/step - loss: 0.2869 - accuracy: 0.8754 - val_loss: 0.4272 - val_accuracy: 0.7966\n",
      "Epoch 14/30\n",
      "449/449 [==============================] - 272s 605ms/step - loss: 0.2544 - accuracy: 0.8935 - val_loss: 0.4528 - val_accuracy: 0.8122\n",
      "Restoring model weights from the end of the best epoch\n",
      "Epoch 00014: early stopping\n"
     ]
    }
   ],
   "source": [
    "model = Sequential() \n",
    "model.add(Conv2D(32,(3,3),padding='same',input_shape=(X_train.shape[1:])))\n",
    "model.add(Activation('relu'))\n",
    "model.add(BatchNormalization())\n",
    "model.add(MaxPooling2D(pool_size=(2,2),strides=(2, 2)))\n",
    "model.add(Dropout(0.2))\n",
    "# model.add(Conv2D(64, kernel_size=(3, 3), activation='relu', input_shape=(X_train.shape[1:])))  \n",
    "# model.add(Conv2D(64,kernel_size= (3, 3), activation='relu'))  \n",
    "# # model.add(BatchNormalization())  \n",
    "# model.add(MaxPooling2D(pool_size=(2,2), strides=(2, 2)))  \n",
    "# model.add(Dropout(0.5))  \n",
    "\n",
    "########################\n",
    "\n",
    "#2nd convolution layer  \n",
    "model.add(Conv2D(64,(3,3),padding='same'))\n",
    "model.add(Activation('relu'))\n",
    "model.add(BatchNormalization())\n",
    "model.add(MaxPooling2D(pool_size=(2,2),strides=(2, 2)))\n",
    "model.add(Dropout(0.2))\n",
    "# #2nd convolution layer  \n",
    "# model.add(Conv2D(64, (3, 3), activation='relu'))  \n",
    "# model.add(Conv2D(64, (3, 3), activation='relu'))  \n",
    "# # model.add(BatchNormalization())  \n",
    "# model.add(MaxPooling2D(pool_size=(2,2), strides=(2, 2)))  \n",
    "# model.add(Dropout(0.5))  \n",
    "\n",
    "########################\n",
    "\n",
    "#3rd convolution layer \n",
    "model.add(Conv2D(128,(3,3),padding='same'))\n",
    "model.add(Activation('relu'))\n",
    "model.add(BatchNormalization())\n",
    "model.add(MaxPooling2D(pool_size=(2,2), strides=(2, 2)))\n",
    "model.add(Dropout(0.2))\n",
    "\n",
    "# model.add(Conv2D(128, (3, 3), activation='relu'))  \n",
    "# model.add(Conv2D(128, (3, 3), activation='relu'))  \n",
    "# # model.add(BatchNormalization())  \n",
    "# model.add(MaxPooling2D(pool_size=(2,2), strides=(2, 2)))  \n",
    "\n",
    "########################\n",
    "\n",
    "#4th convolution layer\n",
    "\n",
    "model.add(Conv2D(256,(3,3),padding='same'))\n",
    "model.add(Activation('relu'))\n",
    "model.add(BatchNormalization())\n",
    "model.add(MaxPooling2D(pool_size=(2,2), strides=(2, 2)))\n",
    "model.add(Dropout(0.2))\n",
    "\n",
    "########################\n",
    "\n",
    "#5th convolution layer\n",
    "\n",
    "model.add(Conv2D(512,(3,3),padding='same'))\n",
    "model.add(Activation('relu'))\n",
    "model.add(BatchNormalization())\n",
    "model.add(MaxPooling2D(pool_size=(2,2), strides=(2, 2)))\n",
    "model.add(Dropout(0.2))\n",
    "\n",
    "########################\n",
    "model.add(Flatten())\n",
    "model.add(Dense(64))\n",
    "model.add(Activation('relu'))\n",
    "model.add(BatchNormalization())\n",
    "model.add(Dropout(0.5))\n",
    " \n",
    "\n",
    "# model.add(Dense(64,kernel_initializer='he_normal'))\n",
    "# model.add(Activation('elu'))\n",
    "# model.add(BatchNormalization())\n",
    "# model.add(Dropout(0.5))\n",
    "\n",
    "model.add(Dense(1024, activation='relu'))  \n",
    "model.add(Dropout(0.2))  \n",
    "\n",
    "model.add(Dense(2, activation='softmax'))  \n",
    "\n",
    "# model.summary()  \n",
    "\n",
    "#Compliling the model  \n",
    "model.compile(loss='binary_crossentropy',  \n",
    "              optimizer=Adam(lr=0.001),  \n",
    "              metrics=['accuracy'])  \n",
    "##\n",
    "earlystop=EarlyStopping(monitor='val_loss',min_delta=0,\n",
    "                        patience=5,\n",
    "                        verbose=1,\n",
    "                        restore_best_weights=True)\n",
    "##\n",
    "reduce_lr=ReduceLROnPlateau(monitor='var_loss',\n",
    "                            factor=0.2,\n",
    "                            patience=3,\n",
    "                            verbose=1,\n",
    "                            min_delta=0.0001)\n",
    "##\n",
    "callbacks=[earlystop,reduce_lr]\n",
    "#Training the model  \n",
    "model.fit(X_train, train_y,  \n",
    "          batch_size=batch_size,  \n",
    "          epochs=epochs,  \n",
    "          callbacks=callbacks,  \n",
    "          validation_data=(X_test, test_y),  \n",
    "          shuffle=True)  \n",
    "\n",
    "\n",
    "#Saving the  model to  use it later on  \n",
    "fer_json = model.to_json()  \n",
    "with open(\"ferbin5layers.json\", \"w\") as json_file:  \n",
    "    json_file.write(fer_json)  \n",
    "model.save_weights(\"ferbin5layers.h5\") "
   ]
  },
  {
   "cell_type": "code",
   "execution_count": null,
   "metadata": {},
   "outputs": [],
   "source": []
  },
  {
   "cell_type": "code",
   "execution_count": 13,
   "metadata": {
    "scrolled": true
   },
   "outputs": [
    {
     "name": "stdout",
     "output_type": "stream",
     "text": [
      "Epoch 1/30\n",
      "449/449 [==============================] - 206s 451ms/step - loss: 1.7698 - accuracy: 0.2927 - val_loss: 1.5245 - val_accuracy: 0.4093\n",
      "Epoch 2/30\n",
      "449/449 [==============================] - 201s 447ms/step - loss: 1.5767 - accuracy: 0.3815 - val_loss: 1.4810 - val_accuracy: 0.4224\n",
      "Epoch 3/30\n",
      "449/449 [==============================] - 204s 454ms/step - loss: 1.4890 - accuracy: 0.4219 - val_loss: 1.4424 - val_accuracy: 0.4352\n",
      "Epoch 4/30\n",
      "449/449 [==============================] - 202s 449ms/step - loss: 1.4383 - accuracy: 0.4421 - val_loss: 1.4185 - val_accuracy: 0.4475\n",
      "Epoch 5/30\n",
      "449/449 [==============================] - 195s 433ms/step - loss: 1.3909 - accuracy: 0.4635 - val_loss: 1.4172 - val_accuracy: 0.4508\n",
      "Epoch 6/30\n",
      "449/449 [==============================] - 198s 440ms/step - loss: 1.3689 - accuracy: 0.4735 - val_loss: 1.3948 - val_accuracy: 0.4622\n",
      "Epoch 7/30\n",
      "449/449 [==============================] - 200s 446ms/step - loss: 1.3184 - accuracy: 0.4981 - val_loss: 1.3802 - val_accuracy: 0.4659\n",
      "Epoch 8/30\n",
      "449/449 [==============================] - 200s 445ms/step - loss: 1.2916 - accuracy: 0.5088 - val_loss: 1.3719 - val_accuracy: 0.4709\n",
      "Epoch 9/30\n",
      "449/449 [==============================] - 199s 444ms/step - loss: 1.2652 - accuracy: 0.5146 - val_loss: 1.3619 - val_accuracy: 0.4765\n",
      "Epoch 10/30\n",
      "449/449 [==============================] - 199s 444ms/step - loss: 1.2281 - accuracy: 0.5339 - val_loss: 1.3675 - val_accuracy: 0.4868\n",
      "Epoch 11/30\n",
      "449/449 [==============================] - 200s 445ms/step - loss: 1.2047 - accuracy: 0.5424 - val_loss: 1.3841 - val_accuracy: 0.4700\n",
      "Epoch 12/30\n",
      "449/449 [==============================] - 201s 447ms/step - loss: 1.1696 - accuracy: 0.5570 - val_loss: 1.3618 - val_accuracy: 0.4804\n",
      "Epoch 13/30\n",
      "449/449 [==============================] - 198s 442ms/step - loss: 1.1478 - accuracy: 0.5656 - val_loss: 1.3636 - val_accuracy: 0.4826\n",
      "Epoch 14/30\n",
      "449/449 [==============================] - 194s 432ms/step - loss: 1.1102 - accuracy: 0.5776 - val_loss: 1.3700 - val_accuracy: 0.4712\n",
      "Epoch 15/30\n",
      "449/449 [==============================] - 200s 446ms/step - loss: 1.0884 - accuracy: 0.5917 - val_loss: 1.3875 - val_accuracy: 0.4759\n",
      "Restoring model weights from the end of the best epoch\n",
      "Epoch 00015: early stopping\n"
     ]
    }
   ],
   "source": [
    "model = Sequential() \n",
    "model.add(Conv2D(32,(3,3),padding='same',input_shape=(X_train.shape[1:])))\n",
    "model.add(Activation('relu'))\n",
    "model.add(BatchNormalization())\n",
    "model.add(MaxPooling2D(pool_size=(2,2),strides=(2, 2)))\n",
    "model.add(Dropout(0.2))\n",
    "# model.add(Conv2D(64, kernel_size=(3, 3), activation='relu', input_shape=(X_train.shape[1:])))  \n",
    "# model.add(Conv2D(64,kernel_size= (3, 3), activation='relu'))  \n",
    "# # model.add(BatchNormalization())  \n",
    "# model.add(MaxPooling2D(pool_size=(2,2), strides=(2, 2)))  \n",
    "# model.add(Dropout(0.5))  \n",
    "\n",
    "########################\n",
    "\n",
    "#2nd convolution layer  \n",
    "model.add(Conv2D(64,(3,3),padding='same'))\n",
    "model.add(Activation('relu'))\n",
    "model.add(BatchNormalization())\n",
    "model.add(MaxPooling2D(pool_size=(2,2),strides=(2, 2)))\n",
    "model.add(Dropout(0.2))\n",
    "# #2nd convolution layer  \n",
    "# model.add(Conv2D(64, (3, 3), activation='relu'))  \n",
    "# model.add(Conv2D(64, (3, 3), activation='relu'))  \n",
    "# # model.add(BatchNormalization())  \n",
    "# model.add(MaxPooling2D(pool_size=(2,2), strides=(2, 2)))  \n",
    "# model.add(Dropout(0.5))  \n",
    "\n",
    "########################\n",
    "\n",
    "#3rd convolution layer \n",
    "model.add(Conv2D(128,(3,3),padding='same'))\n",
    "model.add(Activation('relu'))\n",
    "model.add(BatchNormalization())\n",
    "model.add(MaxPooling2D(pool_size=(2,2), strides=(2, 2)))\n",
    "model.add(Dropout(0.2))\n",
    "\n",
    "# model.add(Conv2D(128, (3, 3), activation='relu'))  \n",
    "# model.add(Conv2D(128, (3, 3), activation='relu'))  \n",
    "# # model.add(BatchNormalization())  \n",
    "# model.add(MaxPooling2D(pool_size=(2,2), strides=(2, 2)))  \n",
    "\n",
    "########################\n",
    "\n",
    "#4th convolution layer\n",
    "\n",
    "model.add(Conv2D(256,(3,3),padding='same'))\n",
    "model.add(Activation('relu'))\n",
    "model.add(BatchNormalization())\n",
    "model.add(MaxPooling2D(pool_size=(2,2), strides=(2, 2)))\n",
    "model.add(Dropout(0.2))\n",
    "\n",
    "########################\n",
    "\n",
    "#5th convolution layer\n",
    "\n",
    "model.add(Conv2D(512,(3,3),padding='same'))\n",
    "model.add(Activation('relu'))\n",
    "model.add(BatchNormalization())\n",
    "model.add(MaxPooling2D(pool_size=(2,2), strides=(2, 2)))\n",
    "model.add(Dropout(0.2))\n",
    "\n",
    "########################\n",
    "model.add(Flatten())\n",
    "model.add(Dense(64))\n",
    "model.add(Activation('relu'))\n",
    "model.add(BatchNormalization())\n",
    "model.add(Dropout(0.5))\n",
    " \n",
    "\n",
    "# model.add(Dense(64,kernel_initializer='he_normal'))\n",
    "# model.add(Activation('elu'))\n",
    "# model.add(BatchNormalization())\n",
    "# model.add(Dropout(0.5))\n",
    "\n",
    "model.add(Dense(1024, activation='relu'))  \n",
    "model.add(Dropout(0.2))  \n",
    "\n",
    "model.add(Dense(num_labels, activation='softmax'))  \n",
    "\n",
    "# model.summary()  \n",
    "\n",
    "#Compliling the model  \n",
    "model.compile(loss='categorical_crossentropy',  \n",
    "              optimizer=Adam(lr=0.001),  \n",
    "              metrics=['accuracy'])  \n",
    "##\n",
    "earlystop=EarlyStopping(monitor='val_loss',min_delta=0,\n",
    "                        patience=3,\n",
    "                        verbose=1,\n",
    "                        restore_best_weights=True)\n",
    "##\n",
    "reduce_lr=ReduceLROnPlateau(monitor='var_loss',\n",
    "                            factor=0.2,\n",
    "                            patience=3,\n",
    "                            verbose=1,\n",
    "                            min_delta=0.0001)\n",
    "##\n",
    "callbacks=[earlystop,reduce_lr]\n",
    "#Training the model  \n",
    "model.fit(X_train, train_y,  \n",
    "          batch_size=batch_size,  \n",
    "          epochs=epochs,  \n",
    "          callbacks=callbacks,  \n",
    "          validation_data=(X_test, test_y),  \n",
    "          shuffle=True)  \n",
    "\n",
    "\n",
    "#Saving the  model to  use it later on  \n",
    "fer_json = model.to_json()  \n",
    "with open(\"ferdce5_3layer.json\", \"w\") as json_file:  \n",
    "    json_file.write(fer_json)  \n",
    "model.save_weights(\"ferdce5_3layer.h5\") "
   ]
  },
  {
   "cell_type": "code",
   "execution_count": 67,
   "metadata": {},
   "outputs": [],
   "source": [
    "pr_7,pr_7_y=[],[]\n",
    "for index, row in df.iterrows():  \n",
    "    val=row['pixels'].split(\" \")  \n",
    "    try:  \n",
    "        if 'PrivateTest' in row['Usage']:  \n",
    "           pr_7.append(np.array(val,'float32'))  \n",
    "           pr_7_y.append(row['emotion'])  \n",
    "    except:  \n",
    "        print(f\"error occured at index :{index} and row:{row}\") \n",
    "\n",
    "pr_7=np.array(pr_7,'float32')\n",
    "#bin_pr = np.array(bin_pr,'float32')\n",
    "pr_7_y = np.array(pr_7_y,'float32')  \n",
    "\n",
    "\n",
    "pr_7_y=np_utils.to_categorical(pr_7_y, num_classes=7)  \n",
    "\n",
    "#cannot produce  \n",
    "#normalizing data between oand 1  \n",
    "pr_7 -= np.mean(pr_7, axis=0)  \n",
    "pr_7 /= np.std(pr_7, axis=0)  \n",
    "\n",
    "\n",
    "pr_7 = pr_7.reshape(pr_7.shape[0], 48, 48, 1)  \n",
    "\n"
   ]
  },
  {
   "cell_type": "code",
   "execution_count": 68,
   "metadata": {},
   "outputs": [
    {
     "name": "stdout",
     "output_type": "stream",
     "text": [
      "0.5608804680969629\n"
     ]
    }
   ],
   "source": [
    "model = model_from_json(open(\"fer3.json\", \"r\").read())  \n",
    "#load weights  \n",
    "model.load_weights('fer3.h5')  \n",
    "pr_7_o=[]\n",
    "for i in pr_7:\n",
    "    pr_7_o.append(np.argmax(model.predict(i.reshape(1,48,48,1))))\n",
    "pr_7_o2=np_utils.to_categorical(pr_7_o, num_classes=7)\n",
    "import sklearn\n",
    "from sklearn.metrics import accuracy_score\n",
    "\n",
    "print(sklearn.metrics.accuracy_score(pr_7_y, pr_7_o2))"
   ]
  },
  {
   "cell_type": "code",
   "execution_count": 1,
   "metadata": {},
   "outputs": [
    {
     "ename": "ModuleNotFoundError",
     "evalue": "No module named 'torch'",
     "output_type": "error",
     "traceback": [
      "\u001b[1;31m---------------------------------------------------------------------------\u001b[0m",
      "\u001b[1;31mModuleNotFoundError\u001b[0m                       Traceback (most recent call last)",
      "\u001b[1;32m<ipython-input-1-3780b35b684c>\u001b[0m in \u001b[0;36m<module>\u001b[1;34m\u001b[0m\n\u001b[1;32m----> 1\u001b[1;33m \u001b[1;32mimport\u001b[0m \u001b[0mtorch\u001b[0m\u001b[1;33m\u001b[0m\u001b[1;33m\u001b[0m\u001b[0m\n\u001b[0m\u001b[0;32m      2\u001b[0m \u001b[1;32mimport\u001b[0m \u001b[0mtorchvision\u001b[0m\u001b[1;33m\u001b[0m\u001b[1;33m\u001b[0m\u001b[0m\n\u001b[0;32m      3\u001b[0m \u001b[1;32mimport\u001b[0m \u001b[0mtorch\u001b[0m\u001b[1;33m.\u001b[0m\u001b[0mnn\u001b[0m \u001b[1;32mas\u001b[0m \u001b[0mnn\u001b[0m\u001b[1;33m\u001b[0m\u001b[1;33m\u001b[0m\u001b[0m\n\u001b[0;32m      4\u001b[0m \u001b[1;32mfrom\u001b[0m \u001b[0mtorchvision\u001b[0m\u001b[1;33m.\u001b[0m\u001b[0mmodels\u001b[0m \u001b[1;32mimport\u001b[0m \u001b[0mresnet50\u001b[0m\u001b[1;33m\u001b[0m\u001b[1;33m\u001b[0m\u001b[0m\n\u001b[0;32m      5\u001b[0m \u001b[0mmodel\u001b[0m \u001b[1;33m=\u001b[0m \u001b[0mresnet50\u001b[0m\u001b[1;33m(\u001b[0m\u001b[1;33m)\u001b[0m\u001b[1;33m\u001b[0m\u001b[1;33m\u001b[0m\u001b[0m\n",
      "\u001b[1;31mModuleNotFoundError\u001b[0m: No module named 'torch'"
     ]
    }
   ],
   "source": [
    "import torch\n",
    "import torchvision\n",
    "import torch.nn as nn\n",
    "from torchvision.models import resnet50\n",
    "model = resnet50()\n",
    "for model_block in list(model.children())[:-3]:\n",
    "    for param in model_block.parameters():\n",
    "        param.requires_grad = False"
   ]
  },
  {
   "cell_type": "markdown",
   "metadata": {},
   "source": [
    "## Data augmentation"
   ]
  },
  {
   "cell_type": "code",
   "execution_count": 3,
   "metadata": {},
   "outputs": [
    {
     "name": "stderr",
     "output_type": "stream",
     "text": [
      "100%|██████████| 436/436 [00:02<00:00, 168.39it/s]\n"
     ]
    },
    {
     "data": {
      "image/png": "[encoded data removed]",
      "text/plain": [
       "<Figure size 720x720 with 25 Axes>"
      ]
     },
     "metadata": {
      "needs_background": "light"
     },
     "output_type": "display_data"
    }
   ],
   "source": [
    "from tqdm import tqdm\n",
    "import numpy as np\n",
    "import pandas as pd\n",
    "import os\n",
    "from matplotlib import pyplot as plt\n",
    "PIC_DIR = 'train/disgust/'\n",
    "IMAGES_COUNT = 436\n",
    "ORIG_WIDTH = 48\n",
    "ORIG_HEIGHT = 48\n",
    "diff = (ORIG_HEIGHT - ORIG_WIDTH) // 2\n",
    "WIDTH = 128\n",
    "HEIGHT = 128\n",
    "crop_rect = (0, diff, ORIG_WIDTH, ORIG_HEIGHT - diff)\n",
    "images = []\n",
    "for pic_file in tqdm(os.listdir(PIC_DIR)[:IMAGES_COUNT]):\n",
    "    pic = Image.open(PIC_DIR + pic_file).crop(crop_rect)\n",
    "    pic=pic.resize((128,128))\n",
    "    #pic.thumbnail((WIDTH, HEIGHT), Image.ANTIALIAS)\n",
    "    images.append(np.uint8(pic))#Normalize the images\n",
    "images = np.array(images) / 255\n",
    "images.shape#print first 25 images\n",
    "plt.figure(1, figsize=(10, 10))\n",
    "for i in range(25):\n",
    "    plt.subplot(5, 5, i+1)\n",
    "    plt.imshow(images[i])\n",
    "    plt.axis('off')\n",
    "plt.show()"
   ]
  },
  {
   "cell_type": "code",
   "execution_count": 4,
   "metadata": {},
   "outputs": [],
   "source": [
    "LATENT_DIM = 32\n",
    "CHANNELS = 1\n",
    "def create_generator():\n",
    "    gen_input = Input(shape=(LATENT_DIM, ))\n",
    "    print(gen_input)\n",
    "    x = Dense(128 * 16 * 16)(gen_input)\n",
    "    x = LeakyReLU()(x)\n",
    "    x = Reshape((16, 16, 128))(x)\n",
    "    \n",
    "    x = Conv2D(256, 5, padding='same')(x)\n",
    "    x = LeakyReLU()(x)\n",
    "    \n",
    "    x = Conv2DTranspose(256, 4, strides=2, padding='same')(x)\n",
    "    x = LeakyReLU()(x)\n",
    "    \n",
    "    x = Conv2DTranspose(256, 4, strides=2, padding='same')(x)\n",
    "    x = LeakyReLU()(x)\n",
    "    \n",
    "    x = Conv2DTranspose(256, 4, strides=2, padding='same')(x)\n",
    "    x = LeakyReLU()(x)\n",
    "    \n",
    "    x = Conv2D(512, 5, padding='same')(x)\n",
    "    x = LeakyReLU()(x)\n",
    "    x = Conv2D(512, 5, padding='same')(x)\n",
    "    x = LeakyReLU()(x)\n",
    "    x = Conv2D(CHANNELS, 7, activation='tanh', padding='same')(x)\n",
    "    \n",
    "    generator = Model(gen_input, x)\n",
    "    return generator"
   ]
  },
  {
   "cell_type": "code",
   "execution_count": 5,
   "metadata": {},
   "outputs": [],
   "source": [
    "def create_discriminator():\n",
    "    disc_input = Input(shape=(128, 128, CHANNELS))\n",
    "    \n",
    "    x = Conv2D(256, 3)(disc_input)\n",
    "    x = LeakyReLU()(x)\n",
    "    \n",
    "    x = Conv2D(256, 4, strides=2)(x)\n",
    "    x = LeakyReLU()(x)\n",
    "    \n",
    "    x = Conv2D(256, 4, strides=2)(x)\n",
    "    x = LeakyReLU()(x)\n",
    "    \n",
    "    x = Conv2D(256, 4, strides=2)(x)\n",
    "    x = LeakyReLU()(x)\n",
    "    \n",
    "    x = Conv2D(256, 4, strides=2)(x)\n",
    "    x = LeakyReLU()(x)\n",
    "    \n",
    "    x = Flatten()(x)\n",
    "    x = Dropout(0.4)(x)\n",
    "    \n",
    "    x = Dense(1, activation='sigmoid')(x)\n",
    "    discriminator = Model(disc_input, x)\n",
    "    \n",
    "    optimizer = RMSprop(\n",
    "        lr=.0001,\n",
    "        clipvalue=1.0,\n",
    "        decay=1e-8\n",
    "    )\n",
    "    \n",
    "    discriminator.compile(\n",
    "        optimizer=optimizer,\n",
    "        loss='binary_crossentropy'\n",
    "    )\n",
    "    \n",
    "    return discriminator"
   ]
  },
  {
   "cell_type": "code",
   "execution_count": 6,
   "metadata": {},
   "outputs": [
    {
     "name": "stdout",
     "output_type": "stream",
     "text": [
      "Tensor(\"input_1:0\", shape=(None, 32), dtype=float32)\n"
     ]
    }
   ],
   "source": [
    "generator = create_generator()\n",
    "discriminator = create_discriminator()\n",
    "discriminator.trainable = False\n",
    "gan_input =Input(shape=(LATENT_DIM, ))\n",
    "gan_output = discriminator(generator(gan_input))\n",
    "gan = Model(gan_input, gan_output)#Adversarial Model\n",
    "optimizer = tf.keras.optimizers.RMSprop(lr=.0001, clipvalue=1.0, decay=1e-8)\n",
    "gan.compile(optimizer=optimizer, loss='binary_crossentropy')"
   ]
  },
  {
   "cell_type": "code",
   "execution_count": null,
   "metadata": {
    "scrolled": true
   },
   "outputs": [],
   "source": [
    "import time\n",
    "iters = 20000\n",
    "batch_size = 16\n",
    "RES_DIR = 'train/res2/'\n",
    "FILE_PATH = '%s/generated_%d.png'\n",
    "if not os.path.isdir(RES_DIR):\n",
    "    os.mkdir(RES_DIR)\n",
    "CONTROL_SIZE_SQRT = 6\n",
    "control_vectors = np.random.normal(size=(CONTROL_SIZE_SQRT**2, LATENT_DIM)) / 2\n",
    "start = 0\n",
    "d_losses = []\n",
    "a_losses = []\n",
    "images_saved = 0\n",
    "for step in range(iters):\n",
    "    start_time = time.time()\n",
    "    latent_vectors = np.random.normal(size=(batch_size, LATENT_DIM))\n",
    "    generated = generator.predict(latent_vectors)\n",
    "    \n",
    "    real = images[start:start + batch_size]\n",
    "    #print(generated)\n",
    "    #plt.imshow(generated)\n",
    "#     print(np.shape(generated))\n",
    "#     print(np.shape(real))\n",
    "    combined_images = np.concatenate([generated, real.reshape(16,128,128,1)])\n",
    "    \n",
    "    labels = np.concatenate([np.ones((batch_size, 1)), np.zeros((batch_size, 1))])\n",
    "    labels += .05 * np.random.random(labels.shape)\n",
    "    \n",
    "    d_loss = discriminator.train_on_batch(combined_images, labels)\n",
    "    d_losses.append(d_loss)\n",
    "    \n",
    "    latent_vectors = np.random.normal(size=(batch_size, LATENT_DIM))\n",
    "    misleading_targets = np.zeros((batch_size, 1))\n",
    "    \n",
    "    a_loss = gan.train_on_batch(latent_vectors, misleading_targets)\n",
    "    a_losses.append(a_loss)\n",
    "    \n",
    "    start += batch_size\n",
    "    if start > images.shape[0] - batch_size:\n",
    "        start = 0\n",
    "    \n",
    "    if step % 50 == 49:\n",
    "        gan.save_weights('gan.h5')\n",
    "        \n",
    "        print('%d/%d: d_loss: %.4f,  a_loss: %.4f.  (%.1f sec)' % (step + 1, iters, d_loss, a_loss, time.time() - start_time))\n",
    "        \n",
    "        control_image = np.zeros((WIDTH * CONTROL_SIZE_SQRT, HEIGHT * CONTROL_SIZE_SQRT, CHANNELS))\n",
    "        control_generated = generator.predict(control_vectors)\n",
    "        for i in range(CONTROL_SIZE_SQRT ** 2):\n",
    "            x_off = i % CONTROL_SIZE_SQRT\n",
    "            y_off = i // CONTROL_SIZE_SQRT\n",
    "            control_image[x_off * WIDTH:(x_off + 1) * WIDTH, y_off * HEIGHT:(y_off + 1) * HEIGHT, :] = control_generated[i, :, :, :]\n",
    "        im = Image.fromarray(np.uint8(control_image * 255))\n",
    "        im.save(FILE_PATH % (RES_DIR, images_saved))\n",
    "        images_saved += 1"
   ]
  },
  {
   "cell_type": "code",
   "execution_count": null,
   "metadata": {},
   "outputs": [],
   "source": []
  },
  {
   "cell_type": "code",
   "execution_count": null,
   "metadata": {},
   "outputs": [],
   "source": []
  },
  {
   "cell_type": "code",
   "execution_count": null,
   "metadata": {},
   "outputs": [],
   "source": []
  },
  {
   "cell_type": "code",
   "execution_count": 6,
   "metadata": {},
   "outputs": [],
   "source": [
    "import numpy as np\n",
    "\n",
    "from keras.preprocessing.image import ImageDataGenerator\n",
    "from keras.layers import Input, Conv2D, Flatten, Dense, Conv2DTranspose, Reshape, Lambda, Activation, BatchNormalization, LeakyReLU, Dropout\n",
    "from keras.models import Model\n",
    "from keras import backend as K\n",
    "from keras.optimizers import Adam\n",
    "from keras.callbacks import ModelCheckpoint \n",
    "from keras.utils import plot_model"
   ]
  },
  {
   "cell_type": "code",
   "execution_count": null,
   "metadata": {},
   "outputs": [],
   "source": [
    "filenames = np.array(glob(os.path.join(train/disgust, '*/*.jpg')))\n",
    "NUM_IMAGES = len(filenames)\n",
    "print(\"Total number of images : \" + str(NUM_IMAGES))\n",
    "# prints : Total number of images : 202599\n",
    "\n",
    "\n",
    "INPUT_DIM = (48,48,3) # Image dimension\n",
    "BATCH_SIZE = \n",
    "Z_DIM = 200 # Dimension of the latent vector (z)\n",
    "\n",
    "data_flow = ImageDataGenerator(rescale=1./255).flow_from_directory(DATA_FOLDER, \n",
    "                                                                   target_size = INPUT_DIM[:2],\n",
    "                                                                   batch_size = BATCH_SIZE,\n",
    "                                                                   shuffle = True,\n",
    "                                                                   class_mode = 'input',\n",
    "                                                                   subset = 'training'\n",
    "                                                                   )"
   ]
  },
  {
   "cell_type": "code",
   "execution_count": null,
   "metadata": {},
   "outputs": [],
   "source": [
    "df="
   ]
  },
  {
   "cell_type": "code",
   "execution_count": 11,
   "metadata": {},
   "outputs": [],
   "source": [
    "### normal data augmentation"
   ]
  },
  {
   "cell_type": "code",
   "execution_count": 13,
   "metadata": {},
   "outputs": [
    {
     "name": "stderr",
     "output_type": "stream",
     "text": [
      "Using TensorFlow backend.\n"
     ]
    }
   ],
   "source": [
    "from keras.preprocessing.image import ImageDataGenerator\n",
    "\n",
    "datagen = ImageDataGenerator(\n",
    "        rotation_range=10, # rotation\n",
    "        width_shift_range=0.2, # horizontal shift\n",
    "        height_shift_range=0.2, # vertical shift\n",
    "        zoom_range=0.2, # zoom\n",
    "        horizontal_flip=True, # horizontal flip\n",
    "        brightness_range=[0.2,1.2]) # brightness"
   ]
  },
  {
   "cell_type": "code",
   "execution_count": null,
   "metadata": {},
   "outputs": [],
   "source": []
  },
  {
   "cell_type": "code",
   "execution_count": 19,
   "metadata": {},
   "outputs": [
    {
     "name": "stderr",
     "output_type": "stream",
     "text": [
      "C:\\Users\\dmsss\\Anaconda3\\envs\\tensorflow_env\\lib\\site-packages\\ipykernel_launcher.py:10: UserWarning: Update your `Dense` call to the Keras 2 API: `Dense(activation=\"softmax\", units=7)`\n",
      "  # Remove the CWD from sys.path while we load stuff.\n"
     ]
    }
   ],
   "source": [
    "from keras.applications.vgg16 import VGG16\n",
    "model = VGG16(weights='imagenet', include_top=False)\n",
    "model = Sequential()\n",
    "model.add(Dense(512, activation='relu'))\n",
    "model.add(Dropout(0.1))\n",
    "model.add(Dense(256, activation='relu'))\n",
    "model.add(Dense(128, activation='relu'))\n",
    "model.add(BatchNormalization())\n",
    "model.add(Dense(64, activation='relu'))\n",
    "model.add(Dense(output_dim = 7, activation='softmax'))\n",
    "model.compile(loss='categorical_crossentropy',\n",
    "              optimizer='rmsprop',\n",
    "              metrics=['accuracy'])\n",
    "\n",
    "earlystop=EarlyStopping(monitor='val_loss',min_delta=0,\n",
    "                        patience=3,\n",
    "                        verbose=1,\n",
    "                        restore_best_weights=True)\n",
    "##\n",
    "##\n",
    "callbacks=[earlystop]\n",
    "\n",
    "model.fit(X_train, train_y, \n",
    "          batch_size=128,  \n",
    "          epochs=epochs, \n",
    "#           callbacks=callbacks,\n",
    "          validation_data=(X_test, test_y),  \n",
    "          shuffle=True) \n",
    "\n",
    "\n",
    "fer_json = model.to_json()  \n",
    "with open(\"fer_dce_vgg16.json\", \"w\") as json_file:  \n",
    "    json_file.write(fer_json)  \n",
    "model.save_weights(\"fer_dce_vgg16.h5\") "
   ]
  },
  {
   "cell_type": "code",
   "execution_count": 99,
   "metadata": {},
   "outputs": [],
   "source": [
    "import glob\n",
    "import cv2\n",
    "from keras.models import Sequential\n",
    "from keras.layers import Conv2D, MaxPooling2D\n",
    "from keras.layers import Activation, Dropout, Flatten, Dense\n",
    "import pandas as pd\n",
    "import numpy as np\n",
    "from PIL import Image\n",
    "import cv2\n",
    "from keras.utils import np_utils\n",
    "from PIL import Image, ImageEnhance\n",
    "import torch\n",
    "import torch.nn as nn\n",
    "import torchvision\n",
    "import torch.backends.cudnn as cudnn\n",
    "import torch.optim\n",
    "import os\n",
    "import sys\n",
    "import argparse\n",
    "import time\n",
    "import dataloader\n",
    "import model\n",
    "import numpy as np\n",
    "from torchvision import transforms\n",
    "from PIL import Image\n",
    "import glob\n",
    "import time\n",
    "from keras.optimizers import RMSprop,SGD,Adam\n",
    "from keras.callbacks import ModelCheckpoint,EarlyStopping,ReduceLROnPlateau\n",
    "from keras.layers import Dense, Dropout, Activation, Flatten  \n",
    "from keras.layers import Conv2D, MaxPooling2D, BatchNormalization,AveragePooling2D\n",
    "from keras.losses import categorical_crossentropy  \n",
    "from keras.optimizers import Adam  \n",
    "#l2:allows you to add a penalty for weight size to the loss function\n",
    "from keras.regularizers import l2 \n",
    "#np_utils:Numpy-related utilities. \n",
    "from keras.utils import np_utils  \n",
    "import pandas as pd \n",
    "import os  \n",
    "import cv2  \n",
    "import numpy as np  \n",
    "from keras.models import model_from_json  \n",
    "from keras.preprocessing import image  \n",
    "j=0\n",
    "for img in glob.glob(r\"C:\\Users\\dmsss\\Downloads\\images\\miscleneous\\disgust\\*.jpg\"):  \n",
    "    j=j+1\n",
    "    #val=np.asarray(list(row['pixels'].split(' ')),dtype=np.uint8)\n",
    "    img=cv2.imread(img)\n",
    "    img=cv2.cvtColor(img, cv2.COLOR_BGR2GRAY)\n",
    "    #img=img.reshape((48,48))\n",
    "    img=cv2.resize(img,(48,48))\n",
    "    new_image = Image.fromarray(img)\n",
    "    enhancer = ImageEnhance.Brightness(new_image)\n",
    "    factor = 0.1 #darkens the image\n",
    "    im_output = enhancer.enhance(factor)\n",
    "    save_loc=\"friends/miscleneous/dark/disgust/\"+str(j)+\".jpg\"\n",
    "    im_output.save(save_loc)\n",
    "    os.environ['CUDA_VISIBLE_DEVICES']='0'\n",
    "    data_lowlight = Image.open(save_loc).convert('RGB')\n",
    "    data_lowlight = (np.asarray(data_lowlight)/255.0)\n",
    "    data_lowlight = torch.from_numpy(data_lowlight).float()\n",
    "    data_lowlight = data_lowlight.permute(2,0,1)\n",
    "    data_lowlight = data_lowlight.unsqueeze(0)\n",
    "    DCE_net = model.enhance_net_nopool()\n",
    "    DCE_net.load_state_dict(torch.load('snapshots/Epoch99.pth',map_location=torch.device('cpu')))\n",
    "    start = time.time()\n",
    "    _,enhanced_image,_ = DCE_net(data_lowlight)\n",
    "    image_path = \"friends/miscleneous/dce/disgust/\"+str(j)+'.jpg'\n",
    "    result_path = image_path\n",
    "    if not os.path.exists(image_path.replace('/'+image_path.split(\"/\")[-1],'')):\n",
    "        os.makedirs(image_path.replace('/'+image_path.split(\"/\")[-1],''))\n",
    "    torchvision.utils.save_image(enhanced_image, result_path)"
   ]
  },
  {
   "cell_type": "code",
   "execution_count": 100,
   "metadata": {},
   "outputs": [],
   "source": [
    "X_train,train_y,X_test,test_y=[],[],[],[]  \n",
    "d=[]"
   ]
  },
  {
   "cell_type": "code",
   "execution_count": 2,
   "metadata": {},
   "outputs": [],
   "source": [
    "pu_d=[]\n",
    "pu_d_y=[]"
   ]
  },
  {
   "cell_type": "code",
   "execution_count": 41,
   "metadata": {},
   "outputs": [],
   "source": [
    "d=[]"
   ]
  },
  {
   "cell_type": "code",
   "execution_count": 39,
   "metadata": {},
   "outputs": [],
   "source": [
    "import glob\n",
    "import cv2\n",
    "import numpy as np\n",
    "from IPython.display import Image, display\n",
    "i=0\n",
    "for imageName in glob.glob(r'S:\\PROJECTS\\ImageProcessing_sentimentAnalysis\\Emotion Detection\\image enhancement\\Zero-DCE-master\\Zero-DCE_code\\friends\\\\*.JPG'):\n",
    "    i=i+1\n",
    "    a=cv2.imread(imageName)\n",
    "    a = cv2.cvtColor(a, cv2.COLOR_BGR2GRAY)\n",
    "    a=a.reshape((48,48))\n",
    "    #print(a)\n",
    "    X_train.append(np.array(a,'float32'))\n",
    "    d.append(np.array(a,'float32'))\n",
    "    train_y.append(6)\n",
    "    if i==3000:\n",
    "        break"
   ]
  },
  {
   "cell_type": "code",
   "execution_count": null,
   "metadata": {},
   "outputs": [],
   "source": [
    "import glob\n",
    "import cv2\n",
    "from keras.models import Sequential\n",
    "from keras.layers import Conv2D, MaxPooling2D\n",
    "from keras.layers import Activation, Dropout, Flatten, Dense\n",
    "import pandas as pd\n",
    "import numpy as np\n",
    "from PIL import Image\n",
    "import cv2\n",
    "from keras.utils import np_utils\n",
    "from PIL import Image, ImageEnhance\n",
    "import torch\n",
    "import torch.nn as nn\n",
    "import torchvision\n",
    "import torch.backends.cudnn as cudnn\n",
    "import torch.optim\n",
    "import os\n",
    "import sys\n",
    "import argparse\n",
    "import time\n",
    "import dataloader\n",
    "import model\n",
    "import numpy as np\n",
    "from torchvision import transforms\n",
    "from PIL import Image\n",
    "import glob\n",
    "import time\n",
    "from keras.optimizers import RMSprop,SGD,Adam\n",
    "from keras.callbacks import ModelCheckpoint,EarlyStopping,ReduceLROnPlateau\n",
    "from keras.layers import Dense, Dropout, Activation, Flatten  \n",
    "from keras.layers import Conv2D, MaxPooling2D, BatchNormalization,AveragePooling2D\n",
    "from keras.losses import categorical_crossentropy  \n",
    "from keras.optimizers import Adam  \n",
    "#l2:allows you to add a penalty for weight size to the loss function\n",
    "from keras.regularizers import l2 \n",
    "#np_utils:Numpy-related utilities. \n",
    "from keras.utils import np_utils  \n",
    "import pandas as pd \n",
    "import os  \n",
    "import cv2  \n",
    "import numpy as np  \n",
    "from keras.models import model_from_json  \n",
    "from keras.preprocessing import image  \n",
    "num_features = 64  \n",
    "num_labels = 7  \n",
    "batch_size = 64  \n",
    "epochs = 100  \n",
    "width, height = 48, 48  \n",
    "\n",
    "\n",
    "X_train2 = np.array(X_train,'float32')  \n",
    "train_y2 = np.array(train_y,'float32')  \n",
    "X_test2 = np.array(X_test,'float32')  \n",
    "test_y2 = np.array(test_y,'float32')  \n",
    "\n",
    "train_y2=np_utils.to_categorical(train_y2, num_classes=num_labels)  \n",
    "test_y2=np_utils.to_categorical(test_y2, num_classes=num_labels)  \n",
    "\n",
    "\n",
    "X_train2 -= np.mean(X_train2, axis=0)  \n",
    "X_train2 /= np.std(X_train2, axis=0)  \n",
    "\n",
    "X_test2 -= np.mean(X_test2, axis=0)  \n",
    "X_test2 /= np.std(X_test2, axis=0)  \n",
    "\n",
    "X_train2 = X_train2.reshape(X_train2.shape[0], 48, 48, 1)  \n",
    "\n",
    "X_test2 = X_test2.reshape(X_test2.shape[0], 48, 48, 1)  \n",
    "\n",
    "# print(f\"shape:{X_train.shape}\")  \n",
    "##designing the cnn  \n",
    "#1st convolution layer  \n",
    "model = Sequential()  \n",
    "#ist layer\n",
    "\n",
    "model.add(Conv2D(32, kernel_size=(3, 3), activation='relu', input_shape=(X_train2.shape[1:])))  \n",
    "# model.add(Conv2D(32,kernel_size= (3, 3), activation='relu'))  \n",
    "model.add(BatchNormalization())  \n",
    "model.add(MaxPooling2D(pool_size=(2,2), strides=(2, 2)))  \n",
    "model.add(Dropout(0.5))  \n",
    "\n",
    "########################\n",
    "\n",
    "# #2nd convolution layer  \n",
    "model.add(Conv2D(64, (3, 3), activation='relu'))  \n",
    "# model.add(Conv2D(64, (3, 3), activation='relu'))  \n",
    "model.add(BatchNormalization())  \n",
    "model.add(MaxPooling2D(pool_size=(2,2), strides=(2, 2)))  \n",
    "model.add(Dropout(0.5))  \n",
    "\n",
    "########################\n",
    "model.add(Conv2D(128, (3, 3), activation='relu'))  \n",
    "# model.add(Conv2D(128, (3, 3), activation='relu'))  \n",
    "model.add(BatchNormalization())  \n",
    "model.add(MaxPooling2D(pool_size=(2,2), strides=(2, 2)))  \n",
    "model.add(Dropout(0.5))  \n",
    "\n",
    "########################\n",
    "\n",
    "########################\n",
    "\n",
    "model.add(Flatten())\n",
    "model.add(Dense(64))\n",
    "model.add(Activation('elu'))\n",
    "model.add(BatchNormalization())\n",
    "model.add(Dropout(0.5))\n",
    " \n",
    "\n",
    "model.add(Dense(1024, activation='relu'))  \n",
    "model.add(Dropout(0.5))  \n",
    "\n",
    "model.add(Dense(7, activation='softmax'))  \n",
    "\n",
    "# model.summary()  \n",
    "\n",
    "#Compliling the model  \n",
    "model.compile(loss='categorical_crossentropy',  \n",
    "              optimizer=Adam(lr=0.001),  \n",
    "              metrics=['accuracy'])  \n",
    "##\n",
    "earlystop=EarlyStopping(monitor='val_loss',min_delta=0,\n",
    "                        patience=5,\n",
    "                        verbose=1,\n",
    "                        restore_best_weights=True)\n",
    "##\n",
    "# reduce_lr=ReduceLROnPlateau(monitor='var_loss',\n",
    "#                             factor=0.2,\n",
    "#                             patience=3,\n",
    "#                             verbose=1,\n",
    "#                             min_delta=0.0001)\n",
    "##\n",
    "callbacks=[earlystop]\n",
    "#Training the model  \n",
    "model.fit(X_train2, train_y2,  \n",
    "          batch_size=batch_size,  \n",
    "          epochs=epochs,  \n",
    "          callbacks=callbacks,\n",
    "          validation_data=(X_test2, test_y2),  \n",
    "          shuffle=True)  \n",
    "\n",
    "\n",
    "#Saving the  model to  use it later on  \n",
    "fer_json = model.to_json()  \n",
    "with open(\"feraug2allplus3000.json\", \"w\") as json_file:  \n",
    "    json_file.write(fer_json)  \n",
    "model.save_weights(\"feraug2allplus3000.h5\") "
   ]
  },
  {
   "cell_type": "code",
   "execution_count": 43,
   "metadata": {},
   "outputs": [],
   "source": [
    "train_y2 = np.array(train_y,'float32') "
   ]
  },
  {
   "cell_type": "code",
   "execution_count": 44,
   "metadata": {},
   "outputs": [
    {
     "data": {
      "text/plain": [
       "dict_values([6995, 4788, 8097, 7215, 7830, 6171, 7965])"
      ]
     },
     "execution_count": 44,
     "metadata": {},
     "output_type": "execute_result"
    }
   ],
   "source": [
    "from collections import Counter\n",
    "\n",
    "\n",
    "\n",
    "Counter(train_y2).keys() # equals to list(set(words))\n",
    "Counter(train_y2).values() # counts the elements' frequency"
   ]
  },
  {
   "cell_type": "code",
   "execution_count": 45,
   "metadata": {},
   "outputs": [],
   "source": [
    "X_test,test_y=[],[]"
   ]
  },
  {
   "cell_type": "code",
   "execution_count": 103,
   "metadata": {},
   "outputs": [],
   "source": [
    "d=[]"
   ]
  },
  {
   "cell_type": "code",
   "execution_count": 116,
   "metadata": {},
   "outputs": [],
   "source": [
    "import glob\n",
    "from IPython.display import Image, display\n",
    "import cv2\n",
    "import numpy as np\n",
    "for imageName in glob.glob(r'S:\\PROJECTS\\ImageProcessing_sentimentAnalysis\\Emotion Detection\\image enhancement\\Zero-DCE-master\\Zero-DCE_code\\friends\\siva\\dce\\angry\\*.JPG'):\n",
    "    a=cv2.imread(imageName)\n",
    "    a = cv2.cvtColor(a, cv2.COLOR_BGR2GRAY)\n",
    "    a=a.reshape((48,48))\n",
    "    d.append(np.array(a,'float32'))\n",
    "    #print(a)\n",
    "    X_test.append(np.array(a,'float32'))\n",
    "    test_y.append(0) "
   ]
  },
  {
   "cell_type": "code",
   "execution_count": 50,
   "metadata": {
    "scrolled": true
   },
   "outputs": [
    {
     "data": {
      "text/plain": [
       "array([0, 1, 2, 3, 4, 5, 6])"
      ]
     },
     "execution_count": 50,
     "metadata": {},
     "output_type": "execute_result"
    }
   ],
   "source": [
    "import numpy as np\n",
    "x=np.array(test_y)\n",
    "np.unique(x)"
   ]
  },
  {
   "cell_type": "code",
   "execution_count": null,
   "metadata": {},
   "outputs": [],
   "source": [
    "\n",
    "import os \n",
    "os.system(\"shutdown /s /t 1\") "
   ]
  },
  {
   "cell_type": "code",
   "execution_count": 53,
   "metadata": {},
   "outputs": [],
   "source": [
    "pu_d=[]\n",
    "pu_d_y=[]"
   ]
  },
  {
   "cell_type": "code",
   "execution_count": 73,
   "metadata": {},
   "outputs": [],
   "source": [
    "d=[]"
   ]
  },
  {
   "cell_type": "code",
   "execution_count": 76,
   "metadata": {},
   "outputs": [],
   "source": [
    "\n",
    "import glob\n",
    "from IPython.display import Image, display\n",
    "import cv2\n",
    "import numpy as np\n",
    "for imageName in glob.glob(r'S:\\PROJECTS\\ImageProcessing_sentimentAnalysis\\Emotion Detection\\image enhancement\\Zero-DCE-master\\Zero-DCE_code\\dce_fer\\PrivateTest\\6\\*.JPG'):\n",
    "    a=cv2.imread(imageName)\n",
    "    #a = cv2.cvtColor(a, cv2.COLOR_BGR2GRAY)\n",
    "    a=a.reshape((48,48))\n",
    "    d.append(np.array(a,'float32'))\n",
    "    #print(imageName)\n",
    "    pu_d.append(np.array(a,'float32'))\n",
    "    pu_d_y.append(6) "
   ]
  },
  {
   "cell_type": "code",
   "execution_count": 77,
   "metadata": {},
   "outputs": [
    {
     "name": "stderr",
     "output_type": "stream",
     "text": [
      "Using TensorFlow backend.\n"
     ]
    }
   ],
   "source": [
    "from keras.utils import np_utils  \n",
    "\n",
    "num_labels = 7   \n",
    "width, height = 48, 48  \n",
    "  \n",
    "pu_d = np.array(pu_d,'float32')  \n",
    "pu_d_y = np.array(pu_d_y,'float32')  \n",
    "####\n",
    " \n",
    "\n",
    "##\n",
    "\n",
    "\n",
    "\n",
    "  \n",
    "pu_d_y=np_utils.to_categorical(pu_d_y, num_classes=num_labels)  \n",
    " \n",
    "\n",
    " \n",
    "\n",
    " \n",
    "pu_d -= np.mean(pu_d, axis=0)  \n",
    "pu_d /= np.std(pu_d, axis=0) \n",
    "pu_d = pu_d.reshape(pu_d.shape[0], 48, 48, 1)  \n",
    "\n"
   ]
  },
  {
   "cell_type": "code",
   "execution_count": 21,
   "metadata": {},
   "outputs": [
    {
     "name": "stdout",
     "output_type": "stream",
     "text": [
      "0.5486207857341878\n"
     ]
    }
   ],
   "source": [
    "from tensorflow.keras.models import model_from_json  \n",
    "\n",
    "model = model_from_json(open(\"ferdce4_3layer.json\", \"r\").read())  \n",
    "#load weights  \n",
    "model.load_weights('ferdce4_3layer.h5')  \n",
    "pu_d_o=[]\n",
    "for i in X_test:\n",
    "    pu_d_o.append(np.argmax(model.predict(i.reshape(1,48,48,3))))\n",
    "pu_d_o2=np_utils.to_categorical(pu_d_o, num_classes=num_labels)\n",
    "import sklearn\n",
    "from sklearn.metrics import accuracy_score\n",
    "\n",
    "print(sklearn.metrics.accuracy_score(test_y, pu_d_o2))"
   ]
  },
  {
   "cell_type": "code",
   "execution_count": 16,
   "metadata": {
    "scrolled": false
   },
   "outputs": [
    {
     "name": "stdout",
     "output_type": "stream",
     "text": [
      "0.4803566453050989\n"
     ]
    }
   ],
   "source": [
    "print(sklearn.metrics.accuracy_score(test_y, pu_d_o2))"
   ]
  },
  {
   "cell_type": "code",
   "execution_count": null,
   "metadata": {},
   "outputs": [],
   "source": [
    "#('angry', 'disgust', 'fear', 'happy', 'sad', 'surprise', 'neutral')"
   ]
  },
  {
   "cell_type": "code",
   "execution_count": 134,
   "metadata": {
    "scrolled": false
   },
   "outputs": [
    {
     "name": "stdout",
     "output_type": "stream",
     "text": [
      "4097\n"
     ]
    }
   ],
   "source": [
    "import glob\n",
    "import cv2\n",
    "i=0\n",
    "for imgn in glob.glob(r'C:\\Users\\dmsss\\Downloads\\capstone emotion analyses\\imag_rgb\\Training\\2\\*.jpg'):\n",
    "    img=cv2.imread(imgn)\n",
    "    i=i+1\n",
    "    #print(img.shape)\n",
    "print(i)"
   ]
  },
  {
   "cell_type": "markdown",
   "metadata": {},
   "source": [
    "# Machine Learning"
   ]
  },
  {
   "cell_type": "markdown",
   "metadata": {},
   "source": [
    "## SVM"
   ]
  },
  {
   "cell_type": "code",
   "execution_count": 1,
   "metadata": {},
   "outputs": [],
   "source": [
    "import os\n",
    "\n",
    "import matplotlib as mpl\n",
    "import matplotlib.pyplot as plt\n",
    "from IPython.display import display\n",
    "%matplotlib inline\n",
    "\n",
    "import pandas as pd\n",
    "import numpy as np\n",
    "\n",
    "from PIL import Image\n",
    "\n",
    "\n",
    "from sklearn.model_selection import train_test_split\n",
    "from sklearn.metrics import accuracy_score\n",
    "from sklearn.preprocessing import StandardScaler\n",
    "from sklearn.decomposition import PCA\n",
    "from sklearn.svm import SVC\n",
    "\n",
    "from sklearn.metrics import roc_curve, auc"
   ]
  },
  {
   "cell_type": "code",
   "execution_count": 2,
   "metadata": {},
   "outputs": [],
   "source": [
    "X_train,train_y,X_test,test_y=[],[],[],[]"
   ]
  },
  {
   "cell_type": "code",
   "execution_count": 17,
   "metadata": {},
   "outputs": [],
   "source": [
    "import glob\n",
    "from IPython.display import Image, display\n",
    "import cv2\n",
    "import numpy as np\n",
    "i=0\n",
    "for imageName in glob.glob(r'S:\\PROJECTS\\ImageProcessing_sentimentAnalysis\\Emotion Detection\\image enhancement\\Zero-DCE-master\\Zero-DCE_code\\dce_fer\\Training\\aug2neutral\\*.JPG'):\n",
    "    a=cv2.imread(imageName)\n",
    "    a = cv2.cvtColor(a, cv2.COLOR_BGR2GRAY)\n",
    "    a=a.flatten()\n",
    "    #a=a.reshape((48,48))\n",
    "    #d.append(np.array(a,'float32'))\n",
    "    #print(a)\n",
    "    X_train.append(np.array(a,'float32'))\n",
    "    train_y.append(6)\n",
    "    i=i+1\n",
    "    if i==1000:\n",
    "        break"
   ]
  },
  {
   "cell_type": "code",
   "execution_count": 94,
   "metadata": {},
   "outputs": [
    {
     "data": {
      "text/plain": [
       "dict_values([958, 111, 1024, 1774, 1247, 831, 1233])"
      ]
     },
     "execution_count": 94,
     "metadata": {},
     "output_type": "execute_result"
    }
   ],
   "source": [
    "from collections import Counter\n",
    "\n",
    "\n",
    "\n",
    "Counter(pu_d_y).keys() # equals to list(set(words))\n",
    "Counter(pu_d_y).values() # counts the elements' frequency"
   ]
  },
  {
   "cell_type": "code",
   "execution_count": 19,
   "metadata": {},
   "outputs": [],
   "source": [
    "from sklearn import svm, metrics, datasets\n",
    "from sklearn.model_selection import GridSearchCV, train_test_split\n",
    "svc = svm.SVC()\n",
    "model=svc.fit(X_train,train_y)"
   ]
  },
  {
   "cell_type": "code",
   "execution_count": 96,
   "metadata": {},
   "outputs": [],
   "source": [
    "pu_d=[]\n",
    "pu_d_y=[]"
   ]
  },
  {
   "cell_type": "code",
   "execution_count": 110,
   "metadata": {},
   "outputs": [],
   "source": [
    "\n",
    "import glob\n",
    "from IPython.display import Image, display\n",
    "import cv2\n",
    "import numpy as np\n",
    "for imageName in glob.glob(r'S:\\PROJECTS\\ImageProcessing_sentimentAnalysis\\Emotion Detection\\image enhancement\\Zero-DCE-master\\Zero-DCE_code\\dce_fer\\PrivateTest\\6\\*.JPG'):\n",
    "    a=cv2.imread(imageName)\n",
    "    a = cv2.cvtColor(a, cv2.COLOR_BGR2GRAY)\n",
    "    #a=a.reshape((48,48))\n",
    "    #d.append(np.array(a,'float32'))\n",
    "    #print(a)\n",
    "    a=a.flatten()\n",
    "    pu_d.append(np.array(a,'float32'))\n",
    "    pu_d_y.append(6) "
   ]
  },
  {
   "cell_type": "code",
   "execution_count": 47,
   "metadata": {},
   "outputs": [
    {
     "name": "stdout",
     "output_type": "stream",
     "text": [
      "0.41680395387149916\n"
     ]
    }
   ],
   "source": [
    "import sklearn\n",
    "from sklearn.metrics import accuracy_score\n",
    "\n",
    "print(sklearn.metrics.accuracy_score(pu_d_y, y_pred))"
   ]
  },
  {
   "cell_type": "code",
   "execution_count": null,
   "metadata": {},
   "outputs": [],
   "source": [
    "pu_d=[]\n",
    "pu_d_y=[]"
   ]
  },
  {
   "cell_type": "code",
   "execution_count": null,
   "metadata": {},
   "outputs": [],
   "source": [
    "\n",
    "import glob\n",
    "from IPython.display import Image, display\n",
    "import cv2\n",
    "import numpy as np\n",
    "for imageName in glob.glob(r'S:\\PROJECTS\\ImageProcessing_sentimentAnalysis\\Emotion Detection\\image enhancement\\Zero-DCE-master\\Zero-DCE_code\\dce_fer\\PublicTest\\6\\*.JPG'):\n",
    "    a=cv2.imread(imageName)\n",
    "    a = cv2.cvtColor(a, cv2.COLOR_BGR2GRAY)\n",
    "    #a=a.reshape((48,48))\n",
    "    #d.append(np.array(a,'float32'))\n",
    "    #print(a)\n",
    "    a=a.flatten()\n",
    "    pu_d.append(np.array(a,'float32'))\n",
    "    pu_d_y.append(6) "
   ]
  },
  {
   "cell_type": "code",
   "execution_count": 1,
   "metadata": {},
   "outputs": [
    {
     "name": "stderr",
     "output_type": "stream",
     "text": [
      "Using TensorFlow backend.\n"
     ]
    }
   ],
   "source": [
    "\n",
    "#Sequential to build a model layer by layer..Each layer has weights that correspond to the layer the follows it..\n",
    "from tensorflow.keras.models import Sequential \n",
    "from tensorflow.keras.layers import Dense, Dropout, Activation, Flatten  \n",
    "from tensorflow.keras.layers import Conv2D, MaxPooling2D, BatchNormalization,AveragePooling2D\n",
    "#categorical_crossentropy : don't know\n",
    "from tensorflow.keras.losses import categorical_crossentropy  \n",
    "#adam:replacement optimization algorithm for stochastic gradient descent for training deep learning models.#don't understand what it is \n",
    "from tensorflow.keras.optimizers import Adam  \n",
    "#l2:allows you to add a penalty for weight size to the loss function\n",
    "from tensorflow.keras.regularizers import l2 \n",
    "#np_utils:Numpy-related utilities. \n",
    "from keras.utils import np_utils  \n",
    "import pandas as pd\n",
    "import cv2\n",
    "import numpy as np\n",
    "from keras.callbacks import ModelCheckpoint,EarlyStopping,ReduceLROnPlateau\n",
    "df=pd.read_csv('fer2013.csv')  \n",
    "X_train,train_y,X_test,test_y=[],[],[],[]  \n",
    "j=0\n",
    "for index, row in df.iterrows():  \n",
    "    j=j+1\n",
    "    image_path = 'dce_fer/'+row['Usage']+'/'+str(row['emotion'])+'/'+str(j)+'.jpg'\n",
    "    im=cv2.imread(image_path)\n",
    "    im= cv2.resize(im, (48,48))\n",
    "    if 'Training' in row['Usage']:  \n",
    "        X_train.append(np.array(im,'float32'))  \n",
    "        train_y.append(row['emotion'])  \n",
    "    elif 'PublicTest' in row['Usage']:  \n",
    "        X_test.append(np.array(im,'float32'))  \n",
    "        test_y.append(row['emotion'])\n",
    "num_features = 64  \n",
    "num_labels = 7  \n",
    "batch_size = 64  \n",
    "epochs = 30  \n",
    "width, height = 48, 48  \n",
    "\n",
    "\n",
    "train_y=np_utils.to_categorical(train_y, num_classes=7)  \n",
    "test_y=np_utils.to_categorical(test_y, num_classes=7)  \n",
    "\n",
    " \n",
    "X_train -= np.mean(X_train, axis=0)  \n",
    "X_train /= np.std(X_train, axis=0)  \n",
    "\n",
    "X_test -= np.mean(X_test, axis=0)  \n",
    "X_test /= np.std(X_test, axis=0)  \n",
    "\n",
    "X_train = X_train.reshape(X_train.shape[0], 48, 48, 3)  \n",
    "\n",
    "X_test = X_test.reshape(X_test.shape[0], 48, 48, 3)  \n"
   ]
  },
  {
   "cell_type": "code",
   "execution_count": 2,
   "metadata": {},
   "outputs": [],
   "source": [
    "from tensorflow.keras.models import model_from_json    \n",
    "model = model_from_json(open(\"ferdce3_3layer.json\", \"r\").read())  \n",
    "#load weights  \n",
    "model.load_weights('ferdce3_3layer.h5')  \n"
   ]
  },
  {
   "cell_type": "code",
   "execution_count": 3,
   "metadata": {},
   "outputs": [
    {
     "name": "stdout",
     "output_type": "stream",
     "text": [
      "0.5475062691557537\n"
     ]
    }
   ],
   "source": [
    "pu_d=X_test\n",
    "pu_d_o=[]\n",
    "for i in pu_d:\n",
    "    pu_d_o.append(np.argmax(model.predict(i.reshape(1,48,48,3))))\n",
    "pu_d_o2=np_utils.to_categorical(pu_d_o, num_classes=num_labels)\n",
    "import sklearn\n",
    "from sklearn.metrics import accuracy_score\n",
    "\n",
    "print(sklearn.metrics.accuracy_score(test_y, pu_d_o2))"
   ]
  },
  {
   "cell_type": "markdown",
   "metadata": {},
   "source": [
    "## Random forrest classifier"
   ]
  },
  {
   "cell_type": "code",
   "execution_count": 112,
   "metadata": {},
   "outputs": [],
   "source": [
    "from sklearn.ensemble import RandomForestClassifier\n",
    "forest_clf = RandomForestClassifier(random_state=42)"
   ]
  },
  {
   "cell_type": "code",
   "execution_count": 113,
   "metadata": {},
   "outputs": [],
   "source": [
    "modelrf=forest_clf.fit(X_train,train_y)"
   ]
  },
  {
   "cell_type": "code",
   "execution_count": 114,
   "metadata": {},
   "outputs": [],
   "source": [
    "y_pred=modelrf.predict(pu_d)"
   ]
  },
  {
   "cell_type": "code",
   "execution_count": 115,
   "metadata": {},
   "outputs": [
    {
     "name": "stdout",
     "output_type": "stream",
     "text": [
      "0.45904151574254665\n"
     ]
    }
   ],
   "source": [
    "import sklearn\n",
    "from sklearn.metrics import accuracy_score\n",
    "\n",
    "print(sklearn.metrics.accuracy_score(pu_d_y, y_pred))"
   ]
  },
  {
   "cell_type": "code",
   "execution_count": null,
   "metadata": {},
   "outputs": [],
   "source": []
  },
  {
   "cell_type": "code",
   "execution_count": null,
   "metadata": {},
   "outputs": [],
   "source": []
  }
 ],
 "metadata": {
  "accelerator": "GPU",
  "colab": {
   "name": "Untitled1.ipynb",
   "provenance": []
  },
  "kernelspec": {
   "display_name": "Python 3",
   "language": "python",
   "name": "python3"
  },
  "language_info": {
   "codemirror_mode": {
    "name": "ipython",
    "version": 3
   },
   "file_extension": ".py",
   "mimetype": "text/x-python",
   "name": "python",
   "nbconvert_exporter": "python",
   "pygments_lexer": "ipython3",
   "version": "3.8.5"
  }
 },
 "nbformat": 4,
 "nbformat_minor": 1
}
